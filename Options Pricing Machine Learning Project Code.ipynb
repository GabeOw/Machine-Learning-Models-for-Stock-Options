{
 "cells": [
  {
   "cell_type": "markdown",
   "id": "1931b3c6",
   "metadata": {
    "heading_collapsed": true
   },
   "source": [
    "# Options Pricing Group Project (Gabe Owens, Yuan-Cheng Tsai)"
   ]
  },
  {
   "cell_type": "markdown",
   "id": "a69a9603",
   "metadata": {},
   "source": [
    "# Initial Data Quality Checks/Cleaning/Standardizing  "
   ]
  },
  {
   "cell_type": "markdown",
   "id": "1b47cfd7",
   "metadata": {},
   "source": [
    "## Load DataSets/Dummy Variable Conversion "
   ]
  },
  {
   "cell_type": "code",
   "execution_count": 19,
   "id": "acd6a0f7",
   "metadata": {},
   "outputs": [],
   "source": [
    "#Load all datasets \n",
    "import pandas as pd\n",
    "import numpy as np\n",
    "import warnings\n",
    "warnings.filterwarnings('ignore')\n",
    "group_pred = pd.read_csv(\"group_0_prediction.csv\")\n",
    "option_test = pd.read_csv('option_test_wolabel.csv')\n",
    "option_train = pd.read_csv(\"option_train.csv\")\n",
    "#Convert 'BS' to a dummy variable (0 if Under, 1 if Over)\n",
    "option_train['BS']=option_train['BS'].apply(lambda x: 1 if x == 'Over' else 0)"
   ]
  },
  {
   "cell_type": "markdown",
   "id": "a3f4b340",
   "metadata": {},
   "source": [
    "## Display All DataSets"
   ]
  },
  {
   "cell_type": "code",
   "execution_count": 20,
   "id": "d536ae03",
   "metadata": {},
   "outputs": [
    {
     "data": {
      "text/html": [
       "<style  type=\"text/css\" >\n",
       "</style><table id=\"T_91a6c_\" style='display:inline'><caption>Group Predictions</caption><thead>    <tr>        <th class=\"blank level0\" ></th>        <th class=\"col_heading level0 col0\" >Value</th>        <th class=\"col_heading level0 col1\" >BS</th>    </tr></thead><tbody>\n",
       "                <tr>\n",
       "                        <th id=\"T_91a6c_level0_row0\" class=\"row_heading level0 row0\" >0</th>\n",
       "                        <td id=\"T_91a6c_row0_col0\" class=\"data row0 col0\" >1.000000</td>\n",
       "                        <td id=\"T_91a6c_row0_col1\" class=\"data row0 col1\" >0</td>\n",
       "            </tr>\n",
       "            <tr>\n",
       "                        <th id=\"T_91a6c_level0_row1\" class=\"row_heading level0 row1\" >1</th>\n",
       "                        <td id=\"T_91a6c_row1_col0\" class=\"data row1 col0\" >2.000000</td>\n",
       "                        <td id=\"T_91a6c_row1_col1\" class=\"data row1 col1\" >0</td>\n",
       "            </tr>\n",
       "            <tr>\n",
       "                        <th id=\"T_91a6c_level0_row2\" class=\"row_heading level0 row2\" >2</th>\n",
       "                        <td id=\"T_91a6c_row2_col0\" class=\"data row2 col0\" >1.000000</td>\n",
       "                        <td id=\"T_91a6c_row2_col1\" class=\"data row2 col1\" >0</td>\n",
       "            </tr>\n",
       "            <tr>\n",
       "                        <th id=\"T_91a6c_level0_row3\" class=\"row_heading level0 row3\" >3</th>\n",
       "                        <td id=\"T_91a6c_row3_col0\" class=\"data row3 col0\" >1.000000</td>\n",
       "                        <td id=\"T_91a6c_row3_col1\" class=\"data row3 col1\" >0</td>\n",
       "            </tr>\n",
       "            <tr>\n",
       "                        <th id=\"T_91a6c_level0_row4\" class=\"row_heading level0 row4\" >4</th>\n",
       "                        <td id=\"T_91a6c_row4_col0\" class=\"data row4 col0\" >3.000000</td>\n",
       "                        <td id=\"T_91a6c_row4_col1\" class=\"data row4 col1\" >0</td>\n",
       "            </tr>\n",
       "    </tbody></table>   <style  type=\"text/css\" >\n",
       "</style><table id=\"T_a113d_\" style='display:inline'><caption>Test Data</caption><thead>    <tr>        <th class=\"blank level0\" ></th>        <th class=\"col_heading level0 col0\" >S</th>        <th class=\"col_heading level0 col1\" >K</th>        <th class=\"col_heading level0 col2\" >tau</th>        <th class=\"col_heading level0 col3\" >r</th>    </tr></thead><tbody>\n",
       "                <tr>\n",
       "                        <th id=\"T_a113d_level0_row0\" class=\"row_heading level0 row0\" >0</th>\n",
       "                        <td id=\"T_a113d_row0_col0\" class=\"data row0 col0\" >431.618600</td>\n",
       "                        <td id=\"T_a113d_row0_col1\" class=\"data row0 col1\" >460</td>\n",
       "                        <td id=\"T_a113d_row0_col2\" class=\"data row0 col2\" >0.293651</td>\n",
       "                        <td id=\"T_a113d_row0_col3\" class=\"data row0 col3\" >0.031470</td>\n",
       "            </tr>\n",
       "            <tr>\n",
       "                        <th id=\"T_a113d_level0_row1\" class=\"row_heading level0 row1\" >1</th>\n",
       "                        <td id=\"T_a113d_row1_col0\" class=\"data row1 col0\" >432.633296</td>\n",
       "                        <td id=\"T_a113d_row1_col1\" class=\"data row1 col1\" >420</td>\n",
       "                        <td id=\"T_a113d_row1_col2\" class=\"data row1 col2\" >0.182540</td>\n",
       "                        <td id=\"T_a113d_row1_col3\" class=\"data row1 col3\" >0.031470</td>\n",
       "            </tr>\n",
       "            <tr>\n",
       "                        <th id=\"T_a113d_level0_row2\" class=\"row_heading level0 row2\" >2</th>\n",
       "                        <td id=\"T_a113d_row2_col0\" class=\"data row2 col0\" >432.633296</td>\n",
       "                        <td id=\"T_a113d_row2_col1\" class=\"data row2 col1\" >430</td>\n",
       "                        <td id=\"T_a113d_row2_col2\" class=\"data row2 col2\" >0.182540</td>\n",
       "                        <td id=\"T_a113d_row2_col3\" class=\"data row2 col3\" >0.031470</td>\n",
       "            </tr>\n",
       "            <tr>\n",
       "                        <th id=\"T_a113d_level0_row3\" class=\"row_heading level0 row3\" >3</th>\n",
       "                        <td id=\"T_a113d_row3_col0\" class=\"data row3 col0\" >431.618600</td>\n",
       "                        <td id=\"T_a113d_row3_col1\" class=\"data row3 col1\" >415</td>\n",
       "                        <td id=\"T_a113d_row3_col2\" class=\"data row3 col2\" >0.293651</td>\n",
       "                        <td id=\"T_a113d_row3_col3\" class=\"data row3 col3\" >0.031470</td>\n",
       "            </tr>\n",
       "            <tr>\n",
       "                        <th id=\"T_a113d_level0_row4\" class=\"row_heading level0 row4\" >4</th>\n",
       "                        <td id=\"T_a113d_row4_col0\" class=\"data row4 col0\" >434.772855</td>\n",
       "                        <td id=\"T_a113d_row4_col1\" class=\"data row4 col1\" >420</td>\n",
       "                        <td id=\"T_a113d_row4_col2\" class=\"data row4 col2\" >0.043651</td>\n",
       "                        <td id=\"T_a113d_row4_col3\" class=\"data row4 col3\" >0.031470</td>\n",
       "            </tr>\n",
       "    </tbody></table>   <style  type=\"text/css\" >\n",
       "</style><table id=\"T_5e434_\" style='display:inline'><caption>Training Data</caption><thead>    <tr>        <th class=\"blank level0\" ></th>        <th class=\"col_heading level0 col0\" >Value</th>        <th class=\"col_heading level0 col1\" >S</th>        <th class=\"col_heading level0 col2\" >K</th>        <th class=\"col_heading level0 col3\" >tau</th>        <th class=\"col_heading level0 col4\" >r</th>        <th class=\"col_heading level0 col5\" >BS</th>    </tr></thead><tbody>\n",
       "                <tr>\n",
       "                        <th id=\"T_5e434_level0_row0\" class=\"row_heading level0 row0\" >0</th>\n",
       "                        <td id=\"T_5e434_row0_col0\" class=\"data row0 col0\" >21.670404</td>\n",
       "                        <td id=\"T_5e434_row0_col1\" class=\"data row0 col1\" >431.623898</td>\n",
       "                        <td id=\"T_5e434_row0_col2\" class=\"data row0 col2\" >420.000000</td>\n",
       "                        <td id=\"T_5e434_row0_col3\" class=\"data row0 col3\" >0.341270</td>\n",
       "                        <td id=\"T_5e434_row0_col4\" class=\"data row0 col4\" >0.030130</td>\n",
       "                        <td id=\"T_5e434_row0_col5\" class=\"data row0 col5\" >0</td>\n",
       "            </tr>\n",
       "            <tr>\n",
       "                        <th id=\"T_5e434_level0_row1\" class=\"row_heading level0 row1\" >1</th>\n",
       "                        <td id=\"T_5e434_row1_col0\" class=\"data row1 col0\" >0.125000</td>\n",
       "                        <td id=\"T_5e434_row1_col1\" class=\"data row1 col1\" >427.015526</td>\n",
       "                        <td id=\"T_5e434_row1_col2\" class=\"data row1 col2\" >465.000000</td>\n",
       "                        <td id=\"T_5e434_row1_col3\" class=\"data row1 col3\" >0.166667</td>\n",
       "                        <td id=\"T_5e434_row1_col4\" class=\"data row1 col4\" >0.031260</td>\n",
       "                        <td id=\"T_5e434_row1_col5\" class=\"data row1 col5\" >1</td>\n",
       "            </tr>\n",
       "            <tr>\n",
       "                        <th id=\"T_5e434_level0_row2\" class=\"row_heading level0 row2\" >2</th>\n",
       "                        <td id=\"T_5e434_row2_col0\" class=\"data row2 col0\" >20.691244</td>\n",
       "                        <td id=\"T_5e434_row2_col1\" class=\"data row2 col1\" >427.762336</td>\n",
       "                        <td id=\"T_5e434_row2_col2\" class=\"data row2 col2\" >415.000000</td>\n",
       "                        <td id=\"T_5e434_row2_col3\" class=\"data row2 col3\" >0.265873</td>\n",
       "                        <td id=\"T_5e434_row2_col4\" class=\"data row2 col4\" >0.031160</td>\n",
       "                        <td id=\"T_5e434_row2_col5\" class=\"data row2 col5\" >0</td>\n",
       "            </tr>\n",
       "            <tr>\n",
       "                        <th id=\"T_5e434_level0_row3\" class=\"row_heading level0 row3\" >3</th>\n",
       "                        <td id=\"T_5e434_row3_col0\" class=\"data row3 col0\" >1.035002</td>\n",
       "                        <td id=\"T_5e434_row3_col1\" class=\"data row3 col1\" >451.711658</td>\n",
       "                        <td id=\"T_5e434_row3_col2\" class=\"data row3 col2\" >460.000000</td>\n",
       "                        <td id=\"T_5e434_row3_col3\" class=\"data row3 col3\" >0.063492</td>\n",
       "                        <td id=\"T_5e434_row3_col4\" class=\"data row3 col4\" >0.029720</td>\n",
       "                        <td id=\"T_5e434_row3_col5\" class=\"data row3 col5\" >1</td>\n",
       "            </tr>\n",
       "            <tr>\n",
       "                        <th id=\"T_5e434_level0_row4\" class=\"row_heading level0 row4\" >4</th>\n",
       "                        <td id=\"T_5e434_row4_col0\" class=\"data row4 col0\" >39.553020</td>\n",
       "                        <td id=\"T_5e434_row4_col1\" class=\"data row4 col1\" >446.718974</td>\n",
       "                        <td id=\"T_5e434_row4_col2\" class=\"data row4 col2\" >410.000000</td>\n",
       "                        <td id=\"T_5e434_row4_col3\" class=\"data row4 col3\" >0.166667</td>\n",
       "                        <td id=\"T_5e434_row4_col4\" class=\"data row4 col4\" >0.029620</td>\n",
       "                        <td id=\"T_5e434_row4_col5\" class=\"data row4 col5\" >0</td>\n",
       "            </tr>\n",
       "    </tbody></table>   "
      ],
      "text/plain": [
       "<IPython.core.display.HTML object>"
      ]
     },
     "metadata": {},
     "output_type": "display_data"
    }
   ],
   "source": [
    "#Display All DataSets\n",
    "from IPython.core.display import display, HTML\n",
    "def display_side_by_side(dfs:list, captions:list):\n",
    "    output = \"\"\n",
    "    combined = dict(zip(captions, dfs))\n",
    "    for caption, df in combined.items():\n",
    "        output += df.style.set_table_attributes(\"style='display:inline'\").set_caption(caption)._repr_html_()\n",
    "        output += \"\\xa0\\xa0\\xa0\"\n",
    "    display(HTML(output))\n",
    "display_side_by_side([group_pred.head(), option_test.head(), option_train.head()], ['Group Predictions', 'Test Data', \n",
    "                                                                                    'Training Data'])"
   ]
  },
  {
   "cell_type": "markdown",
   "id": "04751874",
   "metadata": {},
   "source": [
    "## Quality Checks on Training Data"
   ]
  },
  {
   "cell_type": "code",
   "execution_count": 21,
   "id": "aeb049a4",
   "metadata": {},
   "outputs": [
    {
     "name": "stdout",
     "output_type": "stream",
     "text": [
      "Info:\n",
      "<class 'pandas.core.frame.DataFrame'>\n",
      "RangeIndex: 1680 entries, 0 to 1679\n",
      "Data columns (total 6 columns):\n",
      " #   Column  Non-Null Count  Dtype  \n",
      "---  ------  --------------  -----  \n",
      " 0   Value   1679 non-null   float64\n",
      " 1   S       1679 non-null   float64\n",
      " 2   K       1678 non-null   float64\n",
      " 3   tau     1679 non-null   float64\n",
      " 4   r       1680 non-null   float64\n",
      " 5   BS      1680 non-null   int64  \n",
      "dtypes: float64(5), int64(1)\n",
      "memory usage: 78.9 KB\n",
      "None\n",
      "\n",
      "Descriptive Stats:\n",
      "             Value            S            K          tau            r  \\\n",
      "count  1679.000000  1679.000000  1678.000000  1679.000000  1680.000000   \n",
      "mean     15.072013   440.639445   438.241955     0.437519     0.030235   \n",
      "std      14.036492    13.130436    23.408989     7.057555     0.000557   \n",
      "min       0.125000     0.000000   375.000000     0.003968     0.029510   \n",
      "25%       2.255002   433.863864   420.000000     0.119048     0.029820   \n",
      "50%      11.220588   442.525366   440.000000     0.202381     0.030130   \n",
      "75%      25.745904   447.320414   455.000000     0.285714     0.030540   \n",
      "max      60.149367   455.880619   500.000000   250.000000     0.031880   \n",
      "\n",
      "                BS  \n",
      "count  1680.000000  \n",
      "mean      0.436905  \n",
      "std       0.496151  \n",
      "min       0.000000  \n",
      "25%       0.000000  \n",
      "50%       0.000000  \n",
      "75%       1.000000  \n",
      "max       1.000000  \n",
      "\n",
      "Null Value Count:\n",
      "Value    1\n",
      "S        1\n",
      "K        2\n",
      "tau      1\n",
      "r        0\n",
      "BS       0\n",
      "dtype: int64\n",
      "\n",
      "Duplicate Value Count:\n",
      "0\n",
      "\n",
      "Shape:\n",
      "(1680, 6)\n"
     ]
    }
   ],
   "source": [
    "#Quality Checks on Training Data\n",
    "print('Info:', sep='\\n')\n",
    "print(option_train.info())\n",
    "print()\n",
    "print('Descriptive Stats:', sep='\\n')\n",
    "print(option_train.describe())\n",
    "print()\n",
    "print('Null Value Count:', option_train.isnull().sum(), sep='\\n')\n",
    "print()\n",
    "print('Duplicate Value Count:')\n",
    "print(option_train.duplicated().sum())\n",
    "print()\n",
    "print('Shape:', option_train.shape, sep='\\n')"
   ]
  },
  {
   "cell_type": "markdown",
   "id": "162286b4",
   "metadata": {},
   "source": [
    "## Drop Null Values in Training Data "
   ]
  },
  {
   "cell_type": "code",
   "execution_count": 22,
   "id": "b5bdd55c",
   "metadata": {},
   "outputs": [
    {
     "name": "stdout",
     "output_type": "stream",
     "text": [
      "Null Value Count:\n",
      "Value    0\n",
      "S        0\n",
      "K        0\n",
      "tau      0\n",
      "r        0\n",
      "BS       0\n",
      "dtype: int64\n",
      "\n",
      "New Shape:\n",
      "(1678, 6)\n"
     ]
    }
   ],
   "source": [
    "#Drop Null Values in Training Data \n",
    "option_train = option_train.dropna(axis=0, how='any', thresh=None, subset=None, inplace=False)\n",
    "print('Null Value Count:', option_train.isnull().sum(), sep='\\n')\n",
    "print()\n",
    "print('New Shape:', option_train.shape, sep='\\n')"
   ]
  },
  {
   "cell_type": "markdown",
   "id": "53702327",
   "metadata": {},
   "source": [
    "## Outlier Visualization (Excluding 'BS')"
   ]
  },
  {
   "cell_type": "code",
   "execution_count": 23,
   "id": "a302335f",
   "metadata": {},
   "outputs": [
    {
     "name": "stdout",
     "output_type": "stream",
     "text": [
      "Original Skews:\n",
      "K skew: 0.09760174103507052\n",
      "S skew: -22.577206096818195\n",
      "Value skew: 0.7349212221963913\n",
      "r skew: 1.2358783187225972\n",
      "tau skew: 31.607019444736878\n"
     ]
    },
    {
     "data": {
      "image/png": "[encoded data removed]",
      "text/plain": [
       "<Figure size 1080x1080 with 5 Axes>"
      ]
     },
     "metadata": {
      "needs_background": "light"
     },
     "output_type": "display_data"
    }
   ],
   "source": [
    "#Outlier Visualization (Excluding 'BS') \n",
    "import matplotlib.pyplot as plt\n",
    "import seaborn as sns\n",
    "from matplotlib.pyplot import figure\n",
    "figure(figsize=(15, 15))\n",
    "count=1\n",
    "for i in option_train.columns.difference(['BS']):\n",
    "    plt.subplot(2,5,count)\n",
    "    sns.boxplot(data=option_train[i]).set_title(i)\n",
    "    count+=1\n",
    "plt.subplots_adjust(hspace=2, wspace=.7)\n",
    "print('Original Skews:', sep='\\n')\n",
    "for i in option_train.columns.difference(['BS']):\n",
    "    print(i,'skew:',(option_train[i].skew()))"
   ]
  },
  {
   "cell_type": "markdown",
   "id": "273c2b9f",
   "metadata": {},
   "source": [
    "## Find Extreme Values and Remove Them "
   ]
  },
  {
   "cell_type": "code",
   "execution_count": 24,
   "id": "d9d69c16",
   "metadata": {},
   "outputs": [
    {
     "name": "stdout",
     "output_type": "stream",
     "text": [
      "K :\n",
      "Empty DataFrame\n",
      "Columns: [Value, S, K, tau, r, BS]\n",
      "Index: []\n",
      "S :\n",
      "     Value    S      K       tau        r  BS\n",
      "879  4.125  0.0  455.0  0.170635  0.03003   1\n",
      "Value :\n",
      "Empty DataFrame\n",
      "Columns: [Value, S, K, tau, r, BS]\n",
      "Index: []\n",
      "r :\n",
      "Empty DataFrame\n",
      "Columns: [Value, S, K, tau, r, BS]\n",
      "Index: []\n",
      "tau :\n",
      "       Value           S      K    tau        r  BS\n",
      "12  2.315001  448.688109  470.0  250.0  0.03013   1\n",
      "33  2.565000  445.042240  455.0  146.0  0.03003   1\n"
     ]
    }
   ],
   "source": [
    "#Find Extreme Values and Remove Them \n",
    "col = option_train.columns.difference(['BS'])\n",
    "for i in col:\n",
    "    Q1 = option_train[i].quantile(0.25)\n",
    "    Q3 = option_train[i].quantile(0.75)\n",
    "    IQR = Q3 - Q1\n",
    "    print(i,':')\n",
    "    print(option_train.loc[(option_train[i] < (Q1 - 3 * IQR)) | (option_train[i] > (Q3 + 3 * IQR))])\n",
    "    condition = ~((option_train[i] < (Q1 - 3 * IQR)) | (option_train[i] > (Q3 + 3 * IQR)))\n",
    "    option_train = option_train[condition]"
   ]
  },
  {
   "cell_type": "markdown",
   "id": "4d61b565",
   "metadata": {},
   "source": [
    "## Final Skew Values and Dataset Shape "
   ]
  },
  {
   "cell_type": "code",
   "execution_count": 25,
   "id": "a6d2b864",
   "metadata": {},
   "outputs": [
    {
     "name": "stdout",
     "output_type": "stream",
     "text": [
      "Final Skews:\n",
      "K skew: 0.10083342984947408\n",
      "S skew: -0.22652462714817947\n",
      "Value skew: 0.7322637711951554\n",
      "r skew: 1.2335201609700461\n",
      "tau skew: -0.08777009408890274\n",
      "\n",
      "Final Shape:\n",
      "(1675, 6)\n"
     ]
    }
   ],
   "source": [
    "#Final Skew Values and Dataset Shape \n",
    "print('Final Skews:', sep='\\n')\n",
    "for i in option_train.columns.difference(['BS']):\n",
    "    print(i,'skew:',(option_train[i].skew()))\n",
    "print()\n",
    "print('Final Shape:', option_train.shape, sep='\\n')"
   ]
  },
  {
   "cell_type": "markdown",
   "id": "17f1184e",
   "metadata": {},
   "source": [
    "## Train/Test Split on Dataset"
   ]
  },
  {
   "cell_type": "code",
   "execution_count": 18,
   "id": "9d6fdce4",
   "metadata": {},
   "outputs": [
    {
     "name": "stdout",
     "output_type": "stream",
     "text": [
      "X_train shape: (1172, 4)\n",
      "y_train shape: (1172, 1)\n",
      "X_test shape: (503, 4)\n",
      "y_test shape: (503, 1)\n"
     ]
    }
   ],
   "source": [
    "#Train/Test Split on Dataset\n",
    "from sklearn.model_selection import train_test_split\n",
    "X=option_train[['K','S','r','tau']]\n",
    "y=option_train[['Value']]\n",
    "X_train, X_test, y_train, y_test = train_test_split(X, y, test_size=0.3,random_state=1)\n",
    "option_train_train = pd.DataFrame(X_train, columns = ['K', 'S', 'r', 'tau'])\n",
    "y_train = pd.DataFrame(y_train, columns = ['Value'])\n",
    "option_train_train['Value']= y_train\n",
    "option_train_test = pd.DataFrame(X_test, columns = ['K', 'S', 'r', 'tau'])\n",
    "y_test = pd.DataFrame(y_test, columns = ['Value'])\n",
    "option_train_test['Value']= y_test\n",
    "print('X_train shape:', X_train.shape)\n",
    "print('y_train shape:', y_train.shape)\n",
    "print('X_test shape:', X_test.shape)\n",
    "print('y_test shape:', y_test.shape)"
   ]
  },
  {
   "cell_type": "markdown",
   "id": "d415881d",
   "metadata": {},
   "source": [
    "## Normalizing data using MinMaxScaler()"
   ]
  },
  {
   "cell_type": "markdown",
   "id": "a2964c4d",
   "metadata": {},
   "source": [
    "- We added a very small number (.0000000000001) to both the train/test split data to allow for more transformations (ex: 1/x or log(x))"
   ]
  },
  {
   "cell_type": "code",
   "execution_count": 10,
   "id": "7b93dac0",
   "metadata": {},
   "outputs": [
    {
     "name": "stdout",
     "output_type": "stream",
     "text": [
      "         K      S      r    tau   Value\n",
      "64    0.60  0.674  0.304  0.908  11.250\n",
      "481   0.64  0.235  0.827  0.459   0.970\n",
      "282   0.40  0.719  0.046  0.490  26.666\n",
      "1611  0.68  0.453  0.304  0.735   1.755\n",
      "1018  0.36  0.258  0.177  0.020  14.120\n"
     ]
    },
    {
     "data": {
      "text/html": [
       "<div>\n",
       "<style scoped>\n",
       "    .dataframe tbody tr th:only-of-type {\n",
       "        vertical-align: middle;\n",
       "    }\n",
       "\n",
       "    .dataframe tbody tr th {\n",
       "        vertical-align: top;\n",
       "    }\n",
       "\n",
       "    .dataframe thead th {\n",
       "        text-align: right;\n",
       "    }\n",
       "</style>\n",
       "<table border=\"1\" class=\"dataframe\">\n",
       "  <thead>\n",
       "    <tr style=\"text-align: right;\">\n",
       "      <th></th>\n",
       "      <th>K</th>\n",
       "      <th>S</th>\n",
       "      <th>r</th>\n",
       "      <th>tau</th>\n",
       "      <th>Value</th>\n",
       "    </tr>\n",
       "  </thead>\n",
       "  <tbody>\n",
       "    <tr>\n",
       "      <th>count</th>\n",
       "      <td>1172.000</td>\n",
       "      <td>1172.000</td>\n",
       "      <td>1172.000</td>\n",
       "      <td>1172.000</td>\n",
       "      <td>1172.000</td>\n",
       "    </tr>\n",
       "    <tr>\n",
       "      <th>mean</th>\n",
       "      <td>0.510</td>\n",
       "      <td>0.512</td>\n",
       "      <td>0.304</td>\n",
       "      <td>0.510</td>\n",
       "      <td>14.750</td>\n",
       "    </tr>\n",
       "    <tr>\n",
       "      <th>std</th>\n",
       "      <td>0.185</td>\n",
       "      <td>0.248</td>\n",
       "      <td>0.234</td>\n",
       "      <td>0.254</td>\n",
       "      <td>13.915</td>\n",
       "    </tr>\n",
       "    <tr>\n",
       "      <th>min</th>\n",
       "      <td>0.000</td>\n",
       "      <td>0.000</td>\n",
       "      <td>0.000</td>\n",
       "      <td>0.000</td>\n",
       "      <td>0.125</td>\n",
       "    </tr>\n",
       "    <tr>\n",
       "      <th>25%</th>\n",
       "      <td>0.360</td>\n",
       "      <td>0.277</td>\n",
       "      <td>0.131</td>\n",
       "      <td>0.306</td>\n",
       "      <td>2.125</td>\n",
       "    </tr>\n",
       "    <tr>\n",
       "      <th>50%</th>\n",
       "      <td>0.520</td>\n",
       "      <td>0.590</td>\n",
       "      <td>0.262</td>\n",
       "      <td>0.510</td>\n",
       "      <td>10.666</td>\n",
       "    </tr>\n",
       "    <tr>\n",
       "      <th>75%</th>\n",
       "      <td>0.640</td>\n",
       "      <td>0.719</td>\n",
       "      <td>0.435</td>\n",
       "      <td>0.724</td>\n",
       "      <td>24.918</td>\n",
       "    </tr>\n",
       "    <tr>\n",
       "      <th>max</th>\n",
       "      <td>1.000</td>\n",
       "      <td>1.000</td>\n",
       "      <td>1.000</td>\n",
       "      <td>1.000</td>\n",
       "      <td>60.149</td>\n",
       "    </tr>\n",
       "  </tbody>\n",
       "</table>\n",
       "</div>"
      ],
      "text/plain": [
       "              K         S         r       tau     Value\n",
       "count  1172.000  1172.000  1172.000  1172.000  1172.000\n",
       "mean      0.510     0.512     0.304     0.510    14.750\n",
       "std       0.185     0.248     0.234     0.254    13.915\n",
       "min       0.000     0.000     0.000     0.000     0.125\n",
       "25%       0.360     0.277     0.131     0.306     2.125\n",
       "50%       0.520     0.590     0.262     0.510    10.666\n",
       "75%       0.640     0.719     0.435     0.724    24.918\n",
       "max       1.000     1.000     1.000     1.000    60.149"
      ]
     },
     "execution_count": 10,
     "metadata": {},
     "output_type": "execute_result"
    }
   ],
   "source": [
    "#Normalizing data using MinMaxScaler \n",
    "from sklearn.preprocessing import MinMaxScaler\n",
    "num_cols = option_train_train.columns.difference(['Value'])\n",
    "for i in num_cols:\n",
    "    scale = MinMaxScaler().fit(option_train_train[[i]])\n",
    "    option_train_train[i] = scale.transform(option_train_train[[i]])\n",
    "num_cols = option_train_test.columns.difference(['Value'])\n",
    "for i in num_cols:\n",
    "    scale = MinMaxScaler().fit(option_train_test[[i]])\n",
    "    option_train_test[i] = scale.transform(option_train_test[[i]])\n",
    "option_train_train = option_train_train + .0000000000001\n",
    "option_train_test = option_train_test +   .0000000000001\n",
    "y_test = option_train_test['Value']\n",
    "option_train_test = option_train_test.drop(columns=['Value'])\n",
    "print(round(option_train_train.head(),3))\n",
    "round(option_train_train.describe(),3)"
   ]
  },
  {
   "cell_type": "markdown",
   "id": "c4fe5639",
   "metadata": {},
   "source": [
    "# Data Analysis "
   ]
  },
  {
   "cell_type": "markdown",
   "id": "f37b2548",
   "metadata": {
    "heading_collapsed": true
   },
   "source": [
    "## Regression (Value)"
   ]
  },
  {
   "cell_type": "markdown",
   "id": "9a2b7bea",
   "metadata": {
    "hidden": true
   },
   "source": [
    "### GridSearchCV"
   ]
  },
  {
   "cell_type": "markdown",
   "id": "c00cbc79",
   "metadata": {
    "hidden": true
   },
   "source": [
    "For all regressors, we will use GridSearchCV to find the best combination of tuned hyperparameters.\n",
    "\n",
    "We will then return the average cross-validated score of the specific Regressor."
   ]
  },
  {
   "cell_type": "code",
   "execution_count": 485,
   "id": "9412b780",
   "metadata": {
    "hidden": true
   },
   "outputs": [],
   "source": [
    "from sklearn.model_selection import GridSearchCV"
   ]
  },
  {
   "cell_type": "markdown",
   "id": "2e08bd79",
   "metadata": {
    "hidden": true
   },
   "source": [
    "### Lasso Regression "
   ]
  },
  {
   "cell_type": "code",
   "execution_count": 480,
   "id": "dcb76a6e",
   "metadata": {
    "hidden": true
   },
   "outputs": [
    {
     "name": "stdout",
     "output_type": "stream",
     "text": [
      "Best Parameters:  {'alpha': 0.005}\n",
      "RSquared:  0.9094789702205934\n"
     ]
    }
   ],
   "source": [
    "from sklearn import linear_model\n",
    "model = linear_model.Lasso()\n",
    "forest_params = {'alpha': [5, 0.5, 0.05, 0.005, 0.0005, 1, 0.1, 0.01, 0.001, 0.0001]}\n",
    "clf = GridSearchCV(model, forest_params, cv = 10, scoring='r2')\n",
    "clf.fit(X_train, y_train)\n",
    "print('Best Parameters: ', clf.best_params_)\n",
    "print('RSquared: ', clf.best_score_)"
   ]
  },
  {
   "cell_type": "code",
   "execution_count": 481,
   "id": "de796ac8",
   "metadata": {
    "hidden": true
   },
   "outputs": [
    {
     "name": "stdout",
     "output_type": "stream",
     "text": [
      "Mean Cross Val (R2) Score 0.9105461522997921\n"
     ]
    }
   ],
   "source": [
    "from sklearn.model_selection import cross_val_score\n",
    "from sklearn.model_selection import RepeatedKFold\n",
    "from sklearn import linear_model\n",
    "X = option_train[feature_cols]\n",
    "y = option_train[\"Value\"]\n",
    "model = linear_model.Lasso(alpha=0.005).fit(X_train, y_train)\n",
    "y_pred = model.predict(X_test) \n",
    "cv = RepeatedKFold(n_splits=5, n_repeats= 100, random_state=1)\n",
    "print(\"Mean Cross Val (R2) Score\", np.mean(cross_val_score(model, X, y, scoring='r2', cv=cv, n_jobs=-1)))"
   ]
  },
  {
   "cell_type": "markdown",
   "id": "553c6437",
   "metadata": {
    "hidden": true
   },
   "source": [
    "### Ridge Regression"
   ]
  },
  {
   "cell_type": "code",
   "execution_count": 491,
   "id": "1a45a8b3",
   "metadata": {
    "hidden": true
   },
   "outputs": [
    {
     "name": "stdout",
     "output_type": "stream",
     "text": [
      "Best Parameters:  {'alpha': 1, 'solver': 'auto'}\n",
      "RSquared:  0.9091558617141151\n"
     ]
    }
   ],
   "source": [
    "from sklearn.linear_model import Ridge\n",
    "model = Ridge()\n",
    "forest_params = {'solver': ['auto', 'svd', 'cholesky', 'lsqr', 'sparse_cg', 'sag', 'saga', 'lbfgs'], 'alpha':[1]}\n",
    "clf = GridSearchCV(model, forest_params, cv = 10, scoring='r2')\n",
    "clf.fit(X_train, y_train)\n",
    "print('Best Parameters: ', clf.best_params_)\n",
    "print('RSquared: ', clf.best_score_)"
   ]
  },
  {
   "cell_type": "code",
   "execution_count": 492,
   "id": "05a6fb64",
   "metadata": {
    "hidden": true
   },
   "outputs": [
    {
     "name": "stdout",
     "output_type": "stream",
     "text": [
      "Mean Cross Val (R2) Score 0.910311667096764\n"
     ]
    }
   ],
   "source": [
    "from sklearn.linear_model import Ridge\n",
    "model = Ridge(alpha=1.0, solver = 'auto').fit(X_train, y_train)\n",
    "y_pred = model.predict(X_test) \n",
    "cv = RepeatedKFold(n_splits=5, n_repeats= 100, random_state=1)\n",
    "print(\"Mean Cross Val (R2) Score\", np.mean(cross_val_score(model, X, y, scoring='r2', cv=cv, n_jobs=-1)))"
   ]
  },
  {
   "cell_type": "markdown",
   "id": "32479c31",
   "metadata": {
    "hidden": true
   },
   "source": [
    "### Decision Tree Regressor "
   ]
  },
  {
   "cell_type": "code",
   "execution_count": 494,
   "id": "15b1f1b9",
   "metadata": {
    "hidden": true
   },
   "outputs": [
    {
     "name": "stdout",
     "output_type": "stream",
     "text": [
      "Best Parameters:  {'max_depth': 11, 'splitter': 'best'}\n",
      "RSquared:  0.9888647563862423\n"
     ]
    }
   ],
   "source": [
    "from sklearn.tree import DecisionTreeRegressor\n",
    "model = DecisionTreeRegressor()\n",
    "forest_params = {\"splitter\":[\"best\",\"random\"],\n",
    "            \"max_depth\" : [1,3,5,7,9,11,12]}\n",
    "clf = GridSearchCV(model, forest_params, cv = 10, scoring='r2')\n",
    "clf.fit(X_train, y_train)\n",
    "print('Best Parameters: ', clf.best_params_)\n",
    "print('RSquared: ', clf.best_score_)"
   ]
  },
  {
   "cell_type": "code",
   "execution_count": 495,
   "id": "221a5f35",
   "metadata": {
    "hidden": true
   },
   "outputs": [
    {
     "name": "stdout",
     "output_type": "stream",
     "text": [
      "Mean Cross Val (R2) Score 0.990953127367164\n"
     ]
    }
   ],
   "source": [
    "from sklearn.tree import DecisionTreeRegressor\n",
    "model = DecisionTreeRegressor(max_depth=11, splitter='best', random_state=1).fit(X_train, y_train)\n",
    "y_pred = model.predict(X_test) \n",
    "cv = RepeatedKFold(n_splits=5, n_repeats= 100, random_state=1)\n",
    "print(\"Mean Cross Val (R2) Score\", np.mean(cross_val_score(model, X, y, scoring='r2', cv=cv, n_jobs=-1)))"
   ]
  },
  {
   "cell_type": "markdown",
   "id": "78862167",
   "metadata": {
    "hidden": true
   },
   "source": [
    "### ElasticNet Regression "
   ]
  },
  {
   "cell_type": "code",
   "execution_count": 499,
   "id": "1d58ab94",
   "metadata": {
    "hidden": true
   },
   "outputs": [
    {
     "name": "stdout",
     "output_type": "stream",
     "text": [
      "Best Parameters:  {'alpha': 0.0001, 'l1_ratio': 0.0, 'max_iter': 5}\n",
      "RSquared:  0.9094837210433822\n"
     ]
    }
   ],
   "source": [
    "from sklearn.linear_model import ElasticNet\n",
    "model = ElasticNet()\n",
    "forest_params = {\"max_iter\": [1, 5, 10],\n",
    "                      \"alpha\": [0.0001, 0.001, 0.01, 0.1, 1, 10, 100],\n",
    "                      \"l1_ratio\": np.arange(0.0, 1.0, 0.1)}\n",
    "clf = GridSearchCV(model, forest_params, cv = 10, scoring='r2')\n",
    "clf.fit(X_train, y_train)\n",
    "print('Best Parameters: ', clf.best_params_)\n",
    "print('RSquared: ', clf.best_score_)"
   ]
  },
  {
   "cell_type": "code",
   "execution_count": 500,
   "id": "f0de6af6",
   "metadata": {
    "hidden": true
   },
   "outputs": [
    {
     "name": "stdout",
     "output_type": "stream",
     "text": [
      "Mean Cross Val (R2) Score 0.9105567386332925\n"
     ]
    }
   ],
   "source": [
    "from sklearn.linear_model import ElasticNet\n",
    "model = ElasticNet(alpha = 0.0001, l1_ratio = 0.0, max_iter =5, random_state=1).fit(X_train, y_train)\n",
    "y_pred = model.predict(X_test) \n",
    "cv = RepeatedKFold(n_splits=5, n_repeats= 100, random_state=1)\n",
    "print(\"Mean Cross Val (R2) Score\", np.mean(cross_val_score(model, X, y, scoring='r2', cv=cv, n_jobs=-1)))"
   ]
  },
  {
   "cell_type": "markdown",
   "id": "1ace51a0",
   "metadata": {
    "hidden": true
   },
   "source": [
    "### Linear Regression "
   ]
  },
  {
   "cell_type": "code",
   "execution_count": 467,
   "id": "00932522",
   "metadata": {
    "hidden": true
   },
   "outputs": [
    {
     "name": "stdout",
     "output_type": "stream",
     "text": [
      "Mean Cross Val (R2) Score 0.9107469509112591\n"
     ]
    }
   ],
   "source": [
    "from sklearn.linear_model import LinearRegression\n",
    "model = LinearRegression(n_jobs=-1).fit(X_train, y_train)\n",
    "y_pred = model.predict(X_test) \n",
    "cv = RepeatedKFold(n_splits=5, n_repeats= 100, random_state=1)\n",
    "print(\"Mean Cross Val (R2) Score\", np.mean(cross_val_score(model, X, y, scoring='r2', cv=cv, n_jobs=-1)))"
   ]
  },
  {
   "cell_type": "markdown",
   "id": "e88a4862",
   "metadata": {
    "hidden": true
   },
   "source": [
    "### Attempting to Form the Best Linear Regression Equation:"
   ]
  },
  {
   "cell_type": "markdown",
   "id": "90b15170",
   "metadata": {
    "hidden": true
   },
   "source": [
    "While we divided the samples into training and testing sets, we will be doing the regression model fit tests on our training data, and will find the equation with the highest cross-validated Adjusted R2. We will then check the performance of the final model on the unseen test data. This helps endure there was no overfitting. We are also doing it this way to avoid data leakage, where knowledge of the test set leaks into the dataset used to train the model. \n",
    "\n",
    "In addition, from now on, we are using Adjusted RSquared instead of R2 for training data because: \n",
    "- R^2 does not include a penalty for model complexity and will pick the model with the most variables while Adjusted RSquared does include a penalty for adding more predictors. \n",
    "- R2-value is a function of the mean square error (MSE). \n",
    "- R2-value increases only if MSE decreases. That is, the adjusted R2-value and MSE criteria always yield the same \"best\" models\n",
    "\n",
    "For the linear regression portion of this project, we will compare Adjusted RSquared values for different models using our training data, then test our final model on the test data. "
   ]
  },
  {
   "cell_type": "markdown",
   "id": "3b03f35a",
   "metadata": {
    "hidden": true
   },
   "source": [
    "### Initial Linear Regression Tests"
   ]
  },
  {
   "cell_type": "code",
   "execution_count": 391,
   "id": "78b5e8cf",
   "metadata": {
    "hidden": true
   },
   "outputs": [
    {
     "name": "stdout",
     "output_type": "stream",
     "text": [
      "Predictors: ('K',)   RSquared: 0.7860988875720014\n",
      "Predictors: ('S',)   RSquared: 0.005840156504013705\n",
      "Predictors: ('r',)   RSquared: 0.0014867135061327197\n",
      "Predictors: ('tau',)   RSquared: 0.0024604877873176667\n",
      "Predictors: ('K', 'S')   RSquared: 0.8650910086134567\n",
      "Predictors: ('K', 'r')   RSquared: 0.8000859342499749\n",
      "Predictors: ('K', 'tau')   RSquared: 0.8109362561744098\n",
      "Predictors: ('S', 'r')   RSquared: 0.012594582272823174\n",
      "Predictors: ('S', 'tau')   RSquared: 0.0098411623771536\n",
      "Predictors: ('r', 'tau')   RSquared: 0.0038882515000855378\n",
      "Predictors: ('K', 'S', 'r')   RSquared: 0.865103598800637\n",
      "Predictors: ('K', 'S', 'tau')   RSquared: 0.9127552344188956\n",
      "Predictors: ('K', 'r', 'tau')   RSquared: 0.8263809415834936\n",
      "Predictors: ('S', 'r', 'tau')   RSquared: 0.017360962869397034\n",
      "Predictors: ('K', 'S', 'r', 'tau')   RSquared: 0.9130010611706952\n",
      "\n",
      "The best regression equation has predictors: ('K', 'S', 'r', 'tau') with an RSquared of: 0.9130010611706952\n",
      "However, the most important predictors are K and S and tau with an RSquared of .91276.\n"
     ]
    }
   ],
   "source": [
    "#Initial Linear Regression Tests\n",
    "from sklearn.linear_model import LinearRegression\n",
    "from itertools import chain, combinations\n",
    "X = list(option_train_train.columns.difference(['Value','BS']))\n",
    "y = list(option_train_train[\"Value\"])\n",
    "def powerset(iterable): \n",
    "    s = list(iterable) \n",
    "    return chain.from_iterable(combinations(s, r) for r in range(len(s)+1)) \n",
    "R2 = {}\n",
    "model=LinearRegression()\n",
    "for subset in powerset(X):\n",
    "    if len(subset) > 0:\n",
    "        model.fit(option_train_train[list(subset)],y)\n",
    "        R2_value = model.score(option_train_train[list(subset)],y)\n",
    "        R2.update({subset: R2_value})\n",
    "        print('Predictors:', subset,'  RSquared:', R2_value)\n",
    "print()\n",
    "print('The best regression equation has predictors:', max(R2, key=R2.get) ,'with an RSquared of:', max(R2.values()))\n",
    "print('However, the most important predictors are K and S and tau with an RSquared of .91276.')"
   ]
  },
  {
   "cell_type": "markdown",
   "id": "25a65287",
   "metadata": {
    "hidden": true
   },
   "source": [
    "### Analysis "
   ]
  },
  {
   "cell_type": "markdown",
   "id": "e22ad21a",
   "metadata": {
    "hidden": true
   },
   "source": [
    "- We see that K is a necessity for a strong model fit, so we include it in every future model. Including S and tau provides stronger R2 values than when including r. Therefore, K+S+tau is the most necessary (as the jump from RSquared values of .91276 to .91300 is not large enough to justify adding the additional variable r. Next, we will test transformations on the predictors. "
   ]
  },
  {
   "cell_type": "markdown",
   "id": "4fe961fa",
   "metadata": {
    "hidden": true
   },
   "source": [
    "### Interaction Terms "
   ]
  },
  {
   "cell_type": "code",
   "execution_count": 291,
   "id": "cb31cb6f",
   "metadata": {
    "hidden": true
   },
   "outputs": [
    {
     "name": "stdout",
     "output_type": "stream",
     "text": [
      "Preditors: K + r + S + tau + r*K    Adj RSquared: 0.9134008657996627\n",
      "Preditors: K + r + S + tau + r*S    Adj RSquared: 0.9127797786198377\n",
      "Preditors: K + r + S + tau + r*tau    Adj RSquared: 0.9127825851191467\n",
      "Preditors: K + r + S + tau + S*K    Adj RSquared: 0.913500468539426\n",
      "Preditors: K + r + S + tau + S*tau    Adj RSquared: 0.9126364013079261\n",
      "Preditors: K + S + r + tau + K*tau   Adj RSquared: 0.9178016895756905\n",
      "Preditors: K + r + S + tau + K*S*r   Adj RSquared: 0.8697521324225653\n",
      "Preditors: K + r + S + tau + K*S*tau   Adj RSquared: 0.9193029021929917\n",
      "Preditors: K + r + S + tau + K*r*tau   Adj RSquared: 0.9196938924159708\n",
      "Preditors: K + r + S + tau + S*r*tau   Adj RSquared: 0.9127478695272224\n",
      "Preditors: K + r + S + tau + K*r*S*tau   Adj RSquared: 0.9222609306798204\n",
      "\n",
      "The Adj RSquared values for all interaction terms are very similar and equally beneficial\n",
      "For simplicity, and also to limit the total number of predictors, we will include the most important predictor as K*S, with Adj RSquared value: 0.9135\n"
     ]
    }
   ],
   "source": [
    "#Interaction Terms \n",
    "import statsmodels.formula.api as smf\n",
    "for i in list(option_train.columns.difference(['Value','BS','r'])):\n",
    "    result1 = smf.ols(f'Value ~ K + r + S + tau + r*{i}', data=option_train_train).fit()\n",
    "    print(f'Preditors: K + r + S + tau + r*{i} ', '  Adj RSquared:', result1.rsquared_adj)\n",
    "for i in list(option_train.columns.difference(['Value','BS','r','S'])):\n",
    "    result1 = smf.ols(f'Value ~ K + r + S + tau + S*{i}', data=option_train_train).fit()\n",
    "    print(f'Preditors: K + r + S + tau + S*{i} ', '  Adj RSquared:', result1.rsquared_adj)\n",
    "result1 = smf.ols(f'Value ~ K + S + r + tau + K * tau', data=option_train_train).fit()\n",
    "print(f'Preditors: K + S + r + tau + K*tau', '  Adj RSquared:', result1.rsquared_adj)\n",
    "result1 = smf.ols(f'Value ~ K*S*r', data=option_train_train).fit()\n",
    "print(f'Preditors: K + r + S + tau + K*S*r', '  Adj RSquared:', result1.rsquared_adj)\n",
    "result1 = smf.ols(f'Value ~ K + r + S + tau + K*S*tau', data=option_train_train).fit()\n",
    "print(f'Preditors: K + r + S + tau + K*S*tau', '  Adj RSquared:', result1.rsquared_adj)\n",
    "result1 = smf.ols(f'Value ~ K + r + S + tau + K*r*tau', data=option_train_train).fit()\n",
    "print(f'Preditors: K + r + S + tau + K*r*tau', '  Adj RSquared:', result1.rsquared_adj)\n",
    "result1 = smf.ols(f'Value ~ K + r + S + tau + S*r*tau', data=option_train_train).fit()\n",
    "print(f'Preditors: K + r + S + tau + S*r*tau', '  Adj RSquared:', result1.rsquared_adj)\n",
    "result1 = smf.ols(f'Value ~ K + r + S + tau + K*S*r*tau', data=option_train_train).fit()\n",
    "print(f'Preditors: K + r + S + tau + K*r*S*tau', '  Adj RSquared:', result1.rsquared_adj)\n",
    "print()\n",
    "print('The Adj RSquared values for all interaction terms are very similar and equally beneficial')\n",
    "print('For simplicity, and also to limit the total number of predictors, \\\n",
    "we will include the most important predictor as K*S, with Adj RSquared value: 0.9135')"
   ]
  },
  {
   "cell_type": "markdown",
   "id": "2cbd30c2",
   "metadata": {
    "hidden": true
   },
   "source": [
    "### Exponential Transformations (Non-linear)"
   ]
  },
  {
   "cell_type": "code",
   "execution_count": 292,
   "id": "531b115c",
   "metadata": {
    "hidden": true
   },
   "outputs": [
    {
     "name": "stdout",
     "output_type": "stream",
     "text": [
      "Preditors: K + r + S + tau + K^2    Adj RSquared: 0.9678956954046828\n",
      "Preditors: K + r + S + tau + S^2    Adj RSquared: 0.9130281249790448\n",
      "Preditors: K + r + S + tau + r^2    Adj RSquared: 0.9128321205704222\n",
      "Preditors: K + r + S + tau + tau^2    Adj RSquared: 0.9133403141562983\n",
      "Preditors: K + r + S + tau + K^2 + S^2   Adj RSquared: 0.9679111666334539\n",
      "Preditors: K + r + S + tau + K^2 + r^2   Adj RSquared: 0.9679360016967685\n",
      "Preditors: K + r + S + tau + K^2 + tau^2   Adj RSquared: 0.968116945456705\n",
      "Preditors: K + r + S + tau + S^2 + r^2   Adj RSquared: 0.9131357068520343\n",
      "Preditors: K + r + S + tau + S^2 + tau^2   Adj RSquared: 0.913683889730024\n",
      "Preditors: K + r + S + tau + r^2 + tau^2   Adj RSquared: 0.9134415817670417\n",
      "Preditors: K + r + S + tau + K^2 + S^2 + r^2   Adj RSquared: 0.9679554428085427\n",
      "Preditors: K + r + S + tau + K^2 + S^2 + tau^2   Adj RSquared: 0.9681366197319549\n",
      "Preditors: K + r + S + tau + K^2 + r^2 + tau^2   Adj RSquared: 0.9681670027742612\n",
      "Preditors: K + r + S + tau + S^2 + r^2 + tau^2   Adj RSquared: 0.9137643212946193\n",
      "Preditors: K + r + S + tau + K^2 + r^2 + S^2 + tau^2   Adj RSquared: 0.968191209186904\n",
      "\n",
      "We can see the most important predictor is K^2 from its impact on Adj RSquared values - every Adj R2 is >.96\n"
     ]
    }
   ],
   "source": [
    "#Non-linear Transformations (Exponential) \n",
    "for i in list(option_train.columns.difference(['Value','BS'])):\n",
    "    result1 = smf.ols(f'Value ~ K + r + S + tau + np.power({i}, 2)', data=option_train_train).fit()\n",
    "    print(f'Preditors: K + r + S + tau + {i}^2 ', '  Adj RSquared:', result1.rsquared_adj)\n",
    "for i in list(option_train.columns.difference(['Value','BS','K'])):\n",
    "    result1 = smf.ols(f'Value ~ K + r + S + tau + np.power(K, 2) + np.power({i}, 2)', data=option_train_train).fit()\n",
    "    print(f'Preditors: K + r + S + tau + K^2 + {i}^2 ', ' Adj RSquared:', result1.rsquared_adj)\n",
    "for i in list(option_train.columns.difference(['Value','BS','K','S'])):\n",
    "    result1 = smf.ols(f'Value ~ K + r + S + tau + np.power(S, 2) + np.power({i}, 2)', data=option_train_train).fit()\n",
    "    print(f'Preditors: K + r + S + tau + S^2 + {i}^2 ', ' Adj RSquared:', result1.rsquared_adj)\n",
    "result1 = smf.ols(f'Value ~ K + r + S + tau + np.power(r, 2) + np.power(tau, 2)', data=option_train_train).fit()\n",
    "print(f'Preditors: K + r + S + tau + r^2 + tau^2 ', ' Adj RSquared:', result1.rsquared_adj)\n",
    "result1 = smf.ols(f'Value ~ K + r + S + tau + np.power(K, 2) + np.power(S, 2) + np.power(r, 2)', \n",
    "                  data=option_train_train).fit()\n",
    "print(f'Preditors: K + r + S + tau + K^2 + S^2 + r^2 ', ' Adj RSquared:', result1.rsquared_adj)\n",
    "result1 = smf.ols(f'Value ~ K + r + S + tau + np.power(K, 2) + np.power(S, 2) + np.power(tau, 2)', \n",
    "                  data=option_train_train).fit()\n",
    "print(f'Preditors: K + r + S + tau + K^2 + S^2 + tau^2 ', ' Adj RSquared:', result1.rsquared_adj)\n",
    "result1 = smf.ols(f'Value ~ K + r + S + tau + np.power(K, 2) + np.power(r, 2) + np.power(tau, 2)', \n",
    "                  data=option_train_train).fit()\n",
    "print(f'Preditors: K + r + S + tau + K^2 + r^2 + tau^2 ', ' Adj RSquared:', result1.rsquared_adj)\n",
    "result1 = smf.ols(f'Value ~ K + r + S + tau + np.power(S, 2) + np.power(r, 2) + np.power(tau, 2)', \n",
    "                  data=option_train_train).fit()\n",
    "print(f'Preditors: K + r + S + tau + S^2 + r^2 + tau^2 ', ' Adj RSquared:', result1.rsquared_adj)\n",
    "result1 = smf.ols(f'Value ~ K + r + S + tau + np.power(K, 2) + np.power(r, 2) + np.power(S,2) + np.power(tau,2)', \n",
    "                  data=option_train_train).fit()\n",
    "print(f'Preditors: K + r + S + tau + K^2 + r^2 + S^2 + tau^2', '  Adj RSquared:', result1.rsquared_adj)\n",
    "print()\n",
    "print('We can see the most important predictor is K^2 from its impact on Adj RSquared values - every Adj R2 is >.96')"
   ]
  },
  {
   "cell_type": "markdown",
   "id": "071e5b36",
   "metadata": {
    "hidden": true
   },
   "source": [
    "### Log Transformations"
   ]
  },
  {
   "cell_type": "code",
   "execution_count": 293,
   "id": "b284bda3",
   "metadata": {
    "hidden": true
   },
   "outputs": [
    {
     "name": "stdout",
     "output_type": "stream",
     "text": [
      "Preditors: K + r + S + tau + log(K)   Adj RSquared: 0.915765397602837\n",
      "Preditors: K + r + S + tau + log(S)   Adj RSquared: 0.912977547812878\n",
      "Preditors: K + r + S + tau + log(r)   Adj RSquared: 0.9127602047405832\n",
      "Preditors: K + r + S + tau + log(tau)   Adj RSquared: 0.9130538673860299\n",
      "Preditors: K + r + S + tau + log(S) + log(r)   Adj RSquared: 0.9130200016740212\n",
      "Preditors: K + r + S + tau + log(S) + log(K)   Adj RSquared: 0.9157974674259968\n",
      "Preditors: K + r + S + tau + log(S) + log(tau)   Adj RSquared: 0.9133316663884898\n",
      "Preditors: K + r + S + tau + log(tau) + log(r)   Adj RSquared: 0.913205535861779\n",
      "Preditors: K + r + S + tau + log(tau) + log(K)   Adj RSquared: 0.9161248768528022\n",
      "Preditors: K + r + S + tau + log(K) + log(r)   Adj RSquared: 0.9157998058248551\n",
      "Preditors: K + r + S + tau + log(S) + log(r) + log(tau)   Adj RSquared: 0.9134637287056592\n",
      "Preditors: K + r + S + tau + log(S) + log(r) + log(tau) + log(K)   Adj RSquared: 0.9162700056806314\n",
      "\n",
      "The Adj RSquared values for all log terms are very similar and equally beneficial\n",
      "For simplicity are variety, we will include log(tau) with Adj R2 = .9131\n"
     ]
    }
   ],
   "source": [
    "#Log Transformations\n",
    "import warnings\n",
    "warnings.filterwarnings('ignore')\n",
    "result1 = smf.ols(f'Value ~ K + S + r + tau + np.log(K)', data=option_train_train).fit()\n",
    "print(f'Preditors: K + r + S + tau + log(K)', '  Adj RSquared:', result1.rsquared_adj)\n",
    "result1 = smf.ols(f'Value ~ K + S + r + tau + np.log(S)', data=option_train_train).fit()\n",
    "print(f'Preditors: K + r + S + tau + log(S)', '  Adj RSquared:', result1.rsquared_adj)\n",
    "result1 = smf.ols(f'Value ~ K + S + r + tau + np.log(r)', data=option_train_train).fit()\n",
    "print(f'Preditors: K + r + S + tau + log(r)', '  Adj RSquared:', result1.rsquared_adj)\n",
    "result1 = smf.ols(f'Value ~ K + S + r + tau + np.log(tau)', data=option_train_train).fit()\n",
    "print(f'Preditors: K + r + S + tau + log(tau)', '  Adj RSquared:', result1.rsquared_adj)\n",
    "result1 = smf.ols(f'Value ~ K + S + r + tau + np.log(r) + np.log(S)', data=option_train_train).fit()\n",
    "print(f'Preditors: K + r + S + tau + log(S) + log(r)', '  Adj RSquared:', result1.rsquared_adj)\n",
    "result1 = smf.ols(f'Value ~ K + S + r + tau + np.log(K) + np.log(S)', data=option_train_train).fit()\n",
    "print(f'Preditors: K + r + S + tau + log(S) + log(K)', '  Adj RSquared:', result1.rsquared_adj)\n",
    "result1 = smf.ols(f'Value ~ K + S + r + tau + np.log(tau) + np.log(S)', data=option_train_train).fit()\n",
    "print(f'Preditors: K + r + S + tau + log(S) + log(tau)', '  Adj RSquared:', result1.rsquared_adj)\n",
    "result1 = smf.ols(f'Value ~ K + S + r + tau + np.log(r) + np.log(tau)', data=option_train_train).fit()\n",
    "print(f'Preditors: K + r + S + tau + log(tau) + log(r)', '  Adj RSquared:', result1.rsquared_adj)\n",
    "result1 = smf.ols(f'Value ~ K + S + r + tau + np.log(K) + np.log(tau)', data=option_train_train).fit()\n",
    "print(f'Preditors: K + r + S + tau + log(tau) + log(K)', '  Adj RSquared:', result1.rsquared_adj)\n",
    "result1 = smf.ols(f'Value ~ K + S + r + tau + np.log(r) + np.log(K)', data=option_train_train).fit()\n",
    "print(f'Preditors: K + r + S + tau + log(K) + log(r)', '  Adj RSquared:', result1.rsquared_adj)\n",
    "result1 = smf.ols(f'Value ~ K + S + r + tau + np.log(S) + np.log(r) + np.log(tau)', data=option_train_train).fit()\n",
    "print(f'Preditors: K + r + S + tau + log(S) + log(r) + log(tau)', '  Adj RSquared:', result1.rsquared_adj)\n",
    "result1 = smf.ols(f'Value ~ K + S + r + tau + np.log(S) + np.log(r) + np.log(tau) + np.log(K)', data=option_train_train).fit()\n",
    "print(f'Preditors: K + r + S + tau + log(S) + log(r) + log(tau) + log(K)', '  Adj RSquared:', result1.rsquared_adj)\n",
    "print()\n",
    "print('The Adj RSquared values for all log terms are very similar and equally beneficial')\n",
    "print('For simplicity are variety, we will include log(tau) with Adj R2 = .9131')"
   ]
  },
  {
   "cell_type": "markdown",
   "id": "95c6d14e",
   "metadata": {
    "hidden": true
   },
   "source": [
    "### Exponential Transformations (e^x)"
   ]
  },
  {
   "cell_type": "code",
   "execution_count": 294,
   "id": "e8526dc7",
   "metadata": {
    "hidden": true
   },
   "outputs": [
    {
     "name": "stdout",
     "output_type": "stream",
     "text": [
      "Preditors: K + r + S + tau + e^(K)   Adj RSquared: 0.9692024836776321\n",
      "Preditors: K + r + S + tau + e^(S)   Adj RSquared: 0.91296251479459\n",
      "Preditors: K + r + S + tau + e^(r)   Adj RSquared: 0.9128180156333\n",
      "Preditors: K + r + S + tau + e^(tau)   Adj RSquared: 0.9132579683371659\n",
      "Preditors: K + r + S + tau + e^(S) + e^(r)   Adj RSquared: 0.913081282614678\n",
      "Preditors: K + r + S + tau + e^(S) + e^(K)   Adj RSquared: 0.9692530673657499\n",
      "Preditors: K + r + S + tau + e^(S) + e^(tau)   Adj RSquared: 0.9135290447142419\n",
      "Preditors: K + r + S + tau + e^(tau) + e^(r)   Adj RSquared: 0.9133392914632987\n",
      "Preditors: K + r + S + tau + e^(tau) + e^(K)   Adj RSquared: 0.969418969312162\n",
      "Preditors: K + r + S + tau + e^(K) + e^(r)   Adj RSquared: 0.9692349615034728\n",
      "Preditors: K + r + S + tau + e^(K) + e^(S) + e^(r) + e^(tau)   Adj RSquared: 0.9695174044649394\n",
      "\n",
      "We can see the most important predictor is e^K from its impact on Adj RSquared values. Alone it has Adj R2=0.969\n"
     ]
    }
   ],
   "source": [
    "#Exponential Transformations (e^x)\n",
    "import warnings\n",
    "warnings.filterwarnings('ignore')\n",
    "result1 = smf.ols(f'Value ~ K + S + r + tau + np.exp(K)', data=option_train_train).fit()\n",
    "print(f'Preditors: K + r + S + tau + e^(K)', '  Adj RSquared:', result1.rsquared_adj)\n",
    "result1 = smf.ols(f'Value ~ K + S + r + tau + np.exp(S)', data=option_train_train).fit()\n",
    "print(f'Preditors: K + r + S + tau + e^(S)', '  Adj RSquared:', result1.rsquared_adj)\n",
    "result1 = smf.ols(f'Value ~ K + S + r + tau + np.exp(r)', data=option_train_train).fit()\n",
    "print(f'Preditors: K + r + S + tau + e^(r)', '  Adj RSquared:', result1.rsquared_adj)\n",
    "result1 = smf.ols(f'Value ~ K + S + r + tau + np.exp(tau)', data=option_train_train).fit()\n",
    "print(f'Preditors: K + r + S + tau + e^(tau)', '  Adj RSquared:', result1.rsquared_adj)\n",
    "result1 = smf.ols(f'Value ~ K + S + r + tau + np.exp(r) + np.exp(S)', data=option_train_train).fit()\n",
    "print(f'Preditors: K + r + S + tau + e^(S) + e^(r)', '  Adj RSquared:', result1.rsquared_adj)\n",
    "result1 = smf.ols(f'Value ~ K + S + r + tau + np.exp(K) + np.exp(S)', data=option_train_train).fit()\n",
    "print(f'Preditors: K + r + S + tau + e^(S) + e^(K)', '  Adj RSquared:', result1.rsquared_adj)\n",
    "result1 = smf.ols(f'Value ~ K + S + r + tau + np.exp(tau) + np.exp(S)', data=option_train_train).fit()\n",
    "print(f'Preditors: K + r + S + tau + e^(S) + e^(tau)', '  Adj RSquared:', result1.rsquared_adj)\n",
    "result1 = smf.ols(f'Value ~ K + S + r + tau + np.exp(r) + np.exp(tau)', data=option_train_train).fit()\n",
    "print(f'Preditors: K + r + S + tau + e^(tau) + e^(r)', '  Adj RSquared:', result1.rsquared_adj)\n",
    "result1 = smf.ols(f'Value ~ K + S + r + tau + np.exp(K) + np.exp(tau)', data=option_train_train).fit()\n",
    "print(f'Preditors: K + r + S + tau + e^(tau) + e^(K)', '  Adj RSquared:', result1.rsquared_adj)\n",
    "result1 = smf.ols(f'Value ~ K + S + r + tau + np.exp(r) + np.exp(K)', data=option_train_train).fit()\n",
    "print(f'Preditors: K + r + S + tau + e^(K) + e^(r)', '  Adj RSquared:', result1.rsquared_adj)\n",
    "result1 = smf.ols(f'Value ~ K + S + r + tau + np.exp(K) + np.exp(r) + np.exp(S) + np.exp(tau)', data=option_train_train).fit()\n",
    "print(f'Preditors: K + r + S + tau + e^(K) + e^(S) + e^(r) + e^(tau)', '  Adj RSquared:', result1.rsquared_adj)\n",
    "print()\n",
    "print('We can see the most important predictor is e^K from its impact on Adj RSquared values. Alone it has Adj R2=0.969')"
   ]
  },
  {
   "cell_type": "markdown",
   "id": "85e8106a",
   "metadata": {
    "hidden": true
   },
   "source": [
    "### Fractional transformations "
   ]
  },
  {
   "cell_type": "code",
   "execution_count": 295,
   "id": "ab75e08f",
   "metadata": {
    "hidden": true
   },
   "outputs": [
    {
     "name": "stdout",
     "output_type": "stream",
     "text": [
      "Preditors: K + r + S + tau + 1/K   Adj RSquared: 0.9144629360904243\n",
      "Preditors: K + r + S + tau + 1/S   Adj RSquared: 0.9129131137118671\n",
      "Preditors: K + r + S + tau + 1/r   Adj RSquared: 0.9127455224071006\n",
      "Preditors: K + r + S + tau + 1/tau   Adj RSquared: 0.9127170237644765\n",
      "Preditors: K + r + S + tau + 1/K + 1/S + 1/r + 1/tau   Adj RSquared: 0.9145933108009753\n",
      "\n",
      "The Adj RSquared values for all fractional terms are very similar and equally beneficial\n",
      "For simplicity and variety, we will include the most important predictor as 1/r. Alone is has Adj R2=0.9127\n"
     ]
    }
   ],
   "source": [
    "#Fractional transformations \n",
    "import warnings\n",
    "warnings.filterwarnings('ignore')\n",
    "result1 = smf.ols(f'Value ~ K + S + r + tau + np.power(K,-1)', data=option_train_train).fit()\n",
    "print(f'Preditors: K + r + S + tau + 1/K', '  Adj RSquared:', result1.rsquared_adj)\n",
    "result1 = smf.ols(f'Value ~ K + S + r + tau + np.power(S,-1)', data=option_train_train).fit()\n",
    "print(f'Preditors: K + r + S + tau + 1/S', '  Adj RSquared:', result1.rsquared_adj)\n",
    "result1 = smf.ols(f'Value ~ K + S + r + tau + np.power(r,-1)', data=option_train_train).fit()\n",
    "print(f'Preditors: K + r + S + tau + 1/r', '  Adj RSquared:', result1.rsquared_adj)\n",
    "result1 = smf.ols(f'Value ~ K + S + r + tau + np.power(tau,-1)', data=option_train_train).fit()\n",
    "print(f'Preditors: K + r + S + tau + 1/tau', '  Adj RSquared:', result1.rsquared_adj)\n",
    "result1 = smf.ols(f'Value ~ K + S + r + tau + np.power(K,-1) + np.power(r,-1) + np.power(S,-1) + np.power(tau,-1)', \n",
    "                  data=option_train_train).fit()\n",
    "print(f'Preditors: K + r + S + tau + 1/K + 1/S + 1/r + 1/tau', '  Adj RSquared:', result1.rsquared_adj)\n",
    "print()\n",
    "print('The Adj RSquared values for all fractional terms are very similar and equally beneficial')\n",
    "print('For simplicity and variety, we will include the most important predictor as 1/r. Alone is has Adj R2=0.9127')"
   ]
  },
  {
   "cell_type": "markdown",
   "id": "9164aabe",
   "metadata": {
    "hidden": true
   },
   "source": [
    "### More Exponential Transformations"
   ]
  },
  {
   "cell_type": "code",
   "execution_count": 296,
   "id": "a28a1fd6",
   "metadata": {
    "hidden": true
   },
   "outputs": [
    {
     "name": "stdout",
     "output_type": "stream",
     "text": [
      "Preditors: K + r + S + tau + K^r  Adj RSquared: 0.9166188774579507\n",
      "Preditors: K + r + S + tau + S^r  Adj RSquared: 0.9127897811475457\n",
      "Preditors: K + r + S + tau + tau^r  Adj RSquared: 0.9131951872623336\n",
      "Preditors: K + r + S + tau + K^-r  Adj RSquared: 0.9133679885737379\n",
      "Preditors: K + r + S + tau + S^-r  Adj RSquared: 0.912913156239497\n",
      "Preditors: K + r + S + tau + tau^-r  Adj RSquared: 0.9131889213629474\n",
      "Preditors: K + r + S + tau + S^K  Adj RSquared: 0.9130328715098092\n",
      "Preditors: K + r + S + tau + r^K  Adj RSquared: 0.9133189180633805\n",
      "Preditors: K + r + S + tau + tau^K  Adj RSquared: 0.9230102756258632\n",
      "Preditors: K + r + S + tau + S^-K  Adj RSquared: 0.9135002625554809\n",
      "Preditors: K + r + S + tau + r^-K  Adj RSquared: 0.913530533764135\n",
      "Preditors: K + r + S + tau + tau^-K  Adj RSquared: 0.9127170507089629\n",
      "Preditors: K + r + S + tau + K^S  Adj RSquared: 0.920241683994025\n",
      "Preditors: K + r + S + tau + r^S  Adj RSquared: 0.9127766448080645\n",
      "Preditors: K + r + S + tau + tau^S  Adj RSquared: 0.9128393647195423\n",
      "Preditors: K + r + S + tau + K^-S  Adj RSquared: 0.9138719721407443\n",
      "Preditors: K + r + S + tau + r^-S  Adj RSquared: 0.9126314709352255\n",
      "Preditors: K + r + S + tau + tau^-S  Adj RSquared: 0.9127655019021931\n",
      "Preditors: K + r + S + tau + K^tau  Adj RSquared: 0.9126328473814216\n",
      "Preditors: K + r + S + tau + S^tau  Adj RSquared: 0.912964094912216\n",
      "Preditors: K + r + S + tau + r^tau  Adj RSquared: 0.9126748474760328\n",
      "Preditors: K + r + S + tau + K^-tau  Adj RSquared: 0.9140220398508674\n",
      "Preditors: K + r + S + tau + S^-tau  Adj RSquared: 0.9129131562396716\n",
      "Preditors: K + r + S + tau + r^-tau  Adj RSquared: 0.9128354862977203\n",
      "\n",
      "The Adj RSquared values for all exponential terms are very similar and equally beneficial\n",
      "For simplicity and variety, we will include the most important predictor as tau^K. Alone is has Adj R2=0.9230\n"
     ]
    }
   ],
   "source": [
    "#More Exponential Transformations (Because we would like to include r in the model)\n",
    "for i in list(option_train.columns.difference(['Value','BS','r'])):\n",
    "    result1 = smf.ols(f'Value ~ K + r + S + tau + np.power({i}, r)', data=option_train_train).fit()\n",
    "    print(f'Preditors: K + r + S + tau + {i}^r', ' Adj RSquared:', result1.rsquared_adj)\n",
    "for i in list(option_train.columns.difference(['Value','BS','r'])):\n",
    "    result1 = smf.ols(f'Value ~ K + r + S + tau + np.float_power({i}, -r)', data=option_train_train).fit()\n",
    "    print(f'Preditors: K + r + S + tau + {i}^-r', ' Adj RSquared:', result1.rsquared_adj)\n",
    "for i in list(option_train.columns.difference(['Value','BS','K'])):\n",
    "    result1 = smf.ols(f'Value ~ K + r + S + tau + np.float_power({i}, K)', data=option_train_train).fit()\n",
    "    print(f'Preditors: K + r + S + tau + {i}^K', ' Adj RSquared:', result1.rsquared_adj)\n",
    "for i in list(option_train.columns.difference(['Value','BS','K'])):\n",
    "    result1 = smf.ols(f'Value ~ K + r + S + tau + np.float_power({i}, -K)', data=option_train_train).fit()\n",
    "    print(f'Preditors: K + r + S + tau + {i}^-K', ' Adj RSquared:', result1.rsquared_adj)\n",
    "for i in list(option_train.columns.difference(['Value','BS','S'])):\n",
    "    result1 = smf.ols(f'Value ~ K + r + S + tau + np.float_power({i}, S)', data=option_train_train).fit()\n",
    "    print(f'Preditors: K + r + S + tau + {i}^S', ' Adj RSquared:', result1.rsquared_adj)\n",
    "for i in list(option_train.columns.difference(['Value','BS','S'])):\n",
    "    result1 = smf.ols(f'Value ~ K + r + S + tau + np.float_power({i}, -S)', data=option_train_train).fit()\n",
    "    print(f'Preditors: K + r + S + tau + {i}^-S', ' Adj RSquared:', result1.rsquared_adj)\n",
    "for i in list(option_train.columns.difference(['Value','BS','tau'])):\n",
    "    result1 = smf.ols(f'Value ~ K + r + S + tau + np.float_power({i}, tau)', data=option_train_train).fit()\n",
    "    print(f'Preditors: K + r + S + tau + {i}^tau', ' Adj RSquared:', result1.rsquared_adj)\n",
    "for i in list(option_train.columns.difference(['Value','BS','tau'])):\n",
    "    result1 = smf.ols(f'Value ~ K + r + S + tau + np.float_power({i}, -tau)', data=option_train_train).fit()\n",
    "    print(f'Preditors: K + r + S + tau + {i}^-tau', ' Adj RSquared:', result1.rsquared_adj)\n",
    "print()\n",
    "print('The Adj RSquared values for all exponential terms are very similar and equally beneficial')\n",
    "print('For simplicity and variety, we will include the most important predictor as tau^K. Alone is has Adj R2=0.9230')"
   ]
  },
  {
   "cell_type": "markdown",
   "id": "6d54f7b2",
   "metadata": {
    "hidden": true
   },
   "source": [
    "### Final Equation"
   ]
  },
  {
   "cell_type": "code",
   "execution_count": 398,
   "id": "524791e3",
   "metadata": {
    "hidden": true
   },
   "outputs": [
    {
     "name": "stdout",
     "output_type": "stream",
     "text": [
      "Preditors: K + S + tau + K*S + K^2 + log(tau) + e^(K)+ 1/r + tau^K \n",
      "Adj RSquared:  0.9934322929033138\n"
     ]
    },
    {
     "data": {
      "text/html": [
       "<table class=\"simpletable\">\n",
       "<caption>OLS Regression Results</caption>\n",
       "<tr>\n",
       "  <th>Dep. Variable:</th>          <td>Value</td>      <th>  R-squared:         </th> <td>   0.993</td> \n",
       "</tr>\n",
       "<tr>\n",
       "  <th>Model:</th>                   <td>OLS</td>       <th>  Adj. R-squared:    </th> <td>   0.993</td> \n",
       "</tr>\n",
       "<tr>\n",
       "  <th>Method:</th>             <td>Least Squares</td>  <th>  F-statistic:       </th> <td>2.214e+04</td>\n",
       "</tr>\n",
       "<tr>\n",
       "  <th>Date:</th>             <td>Thu, 21 Apr 2022</td> <th>  Prob (F-statistic):</th>  <td>  0.00</td>  \n",
       "</tr>\n",
       "<tr>\n",
       "  <th>Time:</th>                 <td>14:41:31</td>     <th>  Log-Likelihood:    </th> <td> -1799.3</td> \n",
       "</tr>\n",
       "<tr>\n",
       "  <th>No. Observations:</th>      <td>  1172</td>      <th>  AIC:               </th> <td>   3617.</td> \n",
       "</tr>\n",
       "<tr>\n",
       "  <th>Df Residuals:</th>          <td>  1163</td>      <th>  BIC:               </th> <td>   3662.</td> \n",
       "</tr>\n",
       "<tr>\n",
       "  <th>Df Model:</th>              <td>     8</td>      <th>                     </th>     <td> </td>    \n",
       "</tr>\n",
       "<tr>\n",
       "  <th>Covariance Type:</th>      <td>nonrobust</td>    <th>                     </th>     <td> </td>    \n",
       "</tr>\n",
       "</table>\n",
       "<table class=\"simpletable\">\n",
       "<tr>\n",
       "          <td></td>            <th>coef</th>     <th>std err</th>      <th>t</th>      <th>P>|t|</th>  <th>[0.025</th>    <th>0.975]</th>  \n",
       "</tr>\n",
       "<tr>\n",
       "  <th>Intercept</th>        <td>   47.1691</td> <td>    0.459</td> <td>  102.817</td> <td> 0.000</td> <td>   46.269</td> <td>   48.069</td>\n",
       "</tr>\n",
       "<tr>\n",
       "  <th>K</th>                <td> -162.3278</td> <td>    1.098</td> <td> -147.859</td> <td> 0.000</td> <td> -164.482</td> <td> -160.174</td>\n",
       "</tr>\n",
       "<tr>\n",
       "  <th>S</th>                <td>   45.6838</td> <td>    0.427</td> <td>  107.079</td> <td> 0.000</td> <td>   44.847</td> <td>   46.521</td>\n",
       "</tr>\n",
       "<tr>\n",
       "  <th>tau</th>              <td>    6.4078</td> <td>    0.531</td> <td>   12.065</td> <td> 0.000</td> <td>    5.366</td> <td>    7.450</td>\n",
       "</tr>\n",
       "<tr>\n",
       "  <th>K:S</th>              <td>  -53.7405</td> <td>    0.821</td> <td>  -65.445</td> <td> 0.000</td> <td>  -55.352</td> <td>  -52.129</td>\n",
       "</tr>\n",
       "<tr>\n",
       "  <th>np.power(K, 2)</th>   <td>  108.4854</td> <td>    0.911</td> <td>  119.090</td> <td> 0.000</td> <td>  106.698</td> <td>  110.273</td>\n",
       "</tr>\n",
       "<tr>\n",
       "  <th>np.log(tau)</th>      <td>    0.1613</td> <td>    0.042</td> <td>    3.833</td> <td> 0.000</td> <td>    0.079</td> <td>    0.244</td>\n",
       "</tr>\n",
       "<tr>\n",
       "  <th>np.exp(K)</th>        <td>    2.7895</td> <td>    0.128</td> <td>   21.809</td> <td> 0.000</td> <td>    2.539</td> <td>    3.040</td>\n",
       "</tr>\n",
       "<tr>\n",
       "  <th>np.power(r, -1)</th>  <td> 1.999e-14</td> <td> 2.16e-14</td> <td>    0.927</td> <td> 0.354</td> <td>-2.23e-14</td> <td> 6.23e-14</td>\n",
       "</tr>\n",
       "<tr>\n",
       "  <th>np.power(tau, K)</th> <td>    2.5550</td> <td>    0.727</td> <td>    3.513</td> <td> 0.000</td> <td>    1.128</td> <td>    3.982</td>\n",
       "</tr>\n",
       "</table>\n",
       "<table class=\"simpletable\">\n",
       "<tr>\n",
       "  <th>Omnibus:</th>       <td>15.157</td> <th>  Durbin-Watson:     </th> <td>   1.958</td>\n",
       "</tr>\n",
       "<tr>\n",
       "  <th>Prob(Omnibus):</th> <td> 0.001</td> <th>  Jarque-Bera (JB):  </th> <td>  22.573</td>\n",
       "</tr>\n",
       "<tr>\n",
       "  <th>Skew:</th>          <td>-0.105</td> <th>  Prob(JB):          </th> <td>1.25e-05</td>\n",
       "</tr>\n",
       "<tr>\n",
       "  <th>Kurtosis:</th>      <td> 3.647</td> <th>  Cond. No.          </th> <td>1.02e+15</td>\n",
       "</tr>\n",
       "</table><br/><br/>Notes:<br/>[1] Standard Errors assume that the covariance matrix of the errors is correctly specified.<br/>[2] The condition number is large, 1.02e+15. This might indicate that there are<br/>strong multicollinearity or other numerical problems."
      ],
      "text/plain": [
       "<class 'statsmodels.iolib.summary.Summary'>\n",
       "\"\"\"\n",
       "                            OLS Regression Results                            \n",
       "==============================================================================\n",
       "Dep. Variable:                  Value   R-squared:                       0.993\n",
       "Model:                            OLS   Adj. R-squared:                  0.993\n",
       "Method:                 Least Squares   F-statistic:                 2.214e+04\n",
       "Date:                Thu, 21 Apr 2022   Prob (F-statistic):               0.00\n",
       "Time:                        14:41:31   Log-Likelihood:                -1799.3\n",
       "No. Observations:                1172   AIC:                             3617.\n",
       "Df Residuals:                    1163   BIC:                             3662.\n",
       "Df Model:                           8                                         \n",
       "Covariance Type:            nonrobust                                         \n",
       "====================================================================================\n",
       "                       coef    std err          t      P>|t|      [0.025      0.975]\n",
       "------------------------------------------------------------------------------------\n",
       "Intercept           47.1691      0.459    102.817      0.000      46.269      48.069\n",
       "K                 -162.3278      1.098   -147.859      0.000    -164.482    -160.174\n",
       "S                   45.6838      0.427    107.079      0.000      44.847      46.521\n",
       "tau                  6.4078      0.531     12.065      0.000       5.366       7.450\n",
       "K:S                -53.7405      0.821    -65.445      0.000     -55.352     -52.129\n",
       "np.power(K, 2)     108.4854      0.911    119.090      0.000     106.698     110.273\n",
       "np.log(tau)          0.1613      0.042      3.833      0.000       0.079       0.244\n",
       "np.exp(K)            2.7895      0.128     21.809      0.000       2.539       3.040\n",
       "np.power(r, -1)   1.999e-14   2.16e-14      0.927      0.354   -2.23e-14    6.23e-14\n",
       "np.power(tau, K)     2.5550      0.727      3.513      0.000       1.128       3.982\n",
       "==============================================================================\n",
       "Omnibus:                       15.157   Durbin-Watson:                   1.958\n",
       "Prob(Omnibus):                  0.001   Jarque-Bera (JB):               22.573\n",
       "Skew:                          -0.105   Prob(JB):                     1.25e-05\n",
       "Kurtosis:                       3.647   Cond. No.                     1.02e+15\n",
       "==============================================================================\n",
       "\n",
       "Notes:\n",
       "[1] Standard Errors assume that the covariance matrix of the errors is correctly specified.\n",
       "[2] The condition number is large, 1.02e+15. This might indicate that there are\n",
       "strong multicollinearity or other numerical problems.\n",
       "\"\"\""
      ]
     },
     "execution_count": 398,
     "metadata": {},
     "output_type": "execute_result"
    }
   ],
   "source": [
    "#Final Equation\n",
    "from sklearn.metrics import mean_squared_error\n",
    "model = smf.ols('Value ~ K + S + tau + \\\n",
    "K*S + \\\n",
    "np.power(K, 2) + \\\n",
    "np.log(tau) + \\\n",
    "np.exp(K) + \\\n",
    "np.power(r,-1) + \\\n",
    "np.power(tau,K)', data=option_train_train).fit() \n",
    "print(f'Preditors: K + S + tau + \\\n",
    "K*S + \\\n",
    "K^2 + \\\n",
    "log(tau) + \\\n",
    "e^(K)+ \\\n",
    "1/r + \\\n",
    "tau^K \\nAdj RSquared: ', model.rsquared_adj)\n",
    "model.summary()"
   ]
  },
  {
   "cell_type": "markdown",
   "id": "6a61ac56",
   "metadata": {
    "hidden": true
   },
   "source": [
    "### Test R2 Score on final model with Test Data"
   ]
  },
  {
   "cell_type": "code",
   "execution_count": 399,
   "id": "20653512",
   "metadata": {
    "hidden": true
   },
   "outputs": [
    {
     "name": "stdout",
     "output_type": "stream",
     "text": [
      "RSquared: 0.9938345194320443\n"
     ]
    }
   ],
   "source": [
    "from sklearn.metrics import r2_score\n",
    "from sklearn.model_selection import cross_val_score\n",
    "from sklearn.model_selection import RepeatedKFold\n",
    "model = smf.ols('Value ~ K + S + tau + \\\n",
    "K*S + \\\n",
    "np.power(K, 2) + \\\n",
    "np.log(tau) + \\\n",
    "np.exp(K) + \\\n",
    "np.power(r,-1) + \\\n",
    "np.power(tau,K)', data=option_train_train).fit()\n",
    "y_pred = model.predict(option_train_test)\n",
    "print('RSquared:',r2_score(y_test, y_pred))"
   ]
  },
  {
   "cell_type": "markdown",
   "id": "4b330bb0",
   "metadata": {
    "hidden": true
   },
   "source": [
    "- We are confident there was no overfitting or data leakage during our trials.\n",
    "- We believe this equation will perform well (high out-of-sample Rsquared) when predicting Value using the unseen options test data."
   ]
  },
  {
   "cell_type": "markdown",
   "id": "54a54958",
   "metadata": {},
   "source": [
    "## Classification (BS)"
   ]
  },
  {
   "cell_type": "markdown",
   "id": "91fefe84",
   "metadata": {},
   "source": [
    "### Normalizing Original Training Data (No Change in BS Binary Variable)"
   ]
  },
  {
   "cell_type": "code",
   "execution_count": 26,
   "id": "654bddbc",
   "metadata": {},
   "outputs": [],
   "source": [
    "#Normalizing Original Training Data (No Change in BS Binary Variable)\n",
    "from sklearn import metrics\n",
    "from sklearn.model_selection import train_test_split\n",
    "import numpy as np\n",
    "import matplotlib.pyplot as plt\n",
    "import seaborn as sns\n",
    "import pandas as pd\n",
    "from sklearn.preprocessing import StandardScaler\n",
    "from sklearn.preprocessing import MinMaxScaler\n",
    "feature_cols = ['S','K','tau','r']\n",
    "X = option_train[feature_cols]\n",
    "y = option_train[\"BS\"]\n",
    "X_train, X_test, y_train, y_test = train_test_split(X, y, test_size=0.3,random_state=1)\n",
    "mms= MinMaxScaler()\n",
    "X_train = mms.fit_transform(X_train)\n",
    "X_test = mms.transform(X_test)"
   ]
  },
  {
   "cell_type": "markdown",
   "id": "66311371",
   "metadata": {},
   "source": [
    "### GridSearchCV"
   ]
  },
  {
   "cell_type": "markdown",
   "id": "b18328c4",
   "metadata": {},
   "source": [
    "- For all classifiers, we will use GridSearchCV to find the best combination of tuned hyperparameters.\n",
    "\n",
    "- We will return the average cross-validated score of the specific Classifier."
   ]
  },
  {
   "cell_type": "code",
   "execution_count": 27,
   "id": "1b79bbe0",
   "metadata": {},
   "outputs": [],
   "source": [
    "from sklearn.model_selection import GridSearchCV"
   ]
  },
  {
   "cell_type": "markdown",
   "id": "32124ce0",
   "metadata": {},
   "source": [
    "### Logistic Regression"
   ]
  },
  {
   "cell_type": "code",
   "execution_count": 103,
   "id": "2972f17f",
   "metadata": {},
   "outputs": [
    {
     "name": "stdout",
     "output_type": "stream",
     "text": [
      "Best Parameters:  {'C': 100, 'penalty': 'l2'}\n",
      "Accuracy Score:  0.9155512096190062\n"
     ]
    }
   ],
   "source": [
    "#Logistic Regression\n",
    "from sklearn.linear_model import LogisticRegression\n",
    "model = LogisticRegression()\n",
    "forest_params = {'C': [0.01, 0.1, 1, 2, 10, 100], 'penalty': ['l1', 'l2']}\n",
    "clf = GridSearchCV(model, forest_params, cv = 10, scoring='accuracy')\n",
    "clf.fit(X_train, y_train)\n",
    "print('Best Parameters: ', clf.best_params_)\n",
    "print('Accuracy Score: ', clf.best_score_)"
   ]
  },
  {
   "cell_type": "code",
   "execution_count": 432,
   "id": "58902f39",
   "metadata": {},
   "outputs": [
    {
     "name": "stdout",
     "output_type": "stream",
     "text": [
      "Confusion Matrix:\n",
      " [[266  18]\n",
      " [ 24 195]]\n",
      "Accuracy: 0.9165009940357853\n",
      "Classification Error: 0.08349900596421467\n",
      "Mean Cross Val (Accuracy) Score 0.9098268656716417\n",
      "Mean Classification Error: 0.09017313432835827\n"
     ]
    },
    {
     "data": {
      "image/png": "[encoded data removed]",
      "text/plain": [
       "<Figure size 288x216 with 1 Axes>"
      ]
     },
     "metadata": {
      "needs_background": "light"
     },
     "output_type": "display_data"
    },
    {
     "name": "stdout",
     "output_type": "stream",
     "text": [
      "Area Under Curve: 0.9767187600488777\n"
     ]
    }
   ],
   "source": [
    "#Logistic Regression\n",
    "from sklearn.linear_model import LogisticRegression\n",
    "from sklearn.metrics import auc\n",
    "from sklearn.model_selection import cross_val_score\n",
    "from sklearn.model_selection import RepeatedKFold\n",
    "model = LogisticRegression(C= 100, penalty= 'l2', random_state=1).fit(X_train, y_train)\n",
    "y_pred = model.predict(X_test)\n",
    "cnf_matrix = metrics.confusion_matrix(y_test, y_pred)\n",
    "print(\"Confusion Matrix:\\n\", cnf_matrix)\n",
    "print(\"Accuracy:\",metrics.accuracy_score(y_test, y_pred))\n",
    "print(\"Classification Error:\",1-metrics.accuracy_score(y_test, y_pred))\n",
    "cv = RepeatedKFold(n_splits=5, n_repeats= 100, random_state=1)\n",
    "print(\"Mean Cross Val (Accuracy) Score\", np.mean(cross_val_score(model, X, y, scoring='accuracy', cv=cv, n_jobs=-1)))\n",
    "print(\"Mean Classification Error:\", 1 - np.mean(cross_val_score(model, X, y, scoring='accuracy', cv=cv, n_jobs=-1)))\n",
    "y_pred_proba = model.predict_proba(X_test)[:,1]\n",
    "fpr, tpr, _ = metrics.roc_curve(y_test, y_pred_proba)\n",
    "roc_auc = auc(fpr,tpr)\n",
    "plt.figure(figsize=(4,3))\n",
    "plt.plot(fpr, tpr, color='orange',\n",
    "lw=2, label='ROC curve (area = {0:.4f})'.format(roc_auc))\n",
    "plt.plot([0, 1], [0, 1], color='blue', lw=2, linestyle='--')\n",
    "plt.xlim([0.0, 1.0])\n",
    "plt.ylim([0.0, 1.05])\n",
    "plt.xlabel('False Positive Rate')\n",
    "plt.ylabel('True Positive Rate')\n",
    "plt.title('ROC curve')\n",
    "plt.legend(loc=\"lower right\")\n",
    "plt.show()\n",
    "print('Area Under Curve:', roc_auc)"
   ]
  },
  {
   "cell_type": "markdown",
   "id": "f9f826c4",
   "metadata": {},
   "source": [
    "### Decision Tree Classifier "
   ]
  },
  {
   "cell_type": "code",
   "execution_count": 105,
   "id": "8030d758",
   "metadata": {},
   "outputs": [
    {
     "name": "stdout",
     "output_type": "stream",
     "text": [
      "Best Parameters:  {'criterion': 'entropy', 'max_depth': 8, 'min_samples_leaf': 3, 'min_samples_split': 2}\n",
      "Accuracy Score:  0.9257279443720122\n"
     ]
    }
   ],
   "source": [
    "#Decision Tree Classifier\n",
    "from sklearn.tree import DecisionTreeClassifier\n",
    "model = DecisionTreeClassifier()\n",
    "forest_params = {\"criterion\" : ['gini', 'entropy'], \n",
    "                 'max_depth':range(1,10),\"min_samples_split\": range(1,10),\n",
    "                 \"min_samples_leaf\":range(1,5)}\n",
    "clf = GridSearchCV(model, forest_params, cv = 10, scoring='accuracy')\n",
    "clf.fit(X_train, y_train)\n",
    "print('Best Parameters: ', clf.best_params_)\n",
    "print('Accuracy Score: ', clf.best_score_)"
   ]
  },
  {
   "cell_type": "code",
   "execution_count": 106,
   "id": "7eb791f6",
   "metadata": {},
   "outputs": [
    {
     "name": "stdout",
     "output_type": "stream",
     "text": [
      "Accuracy: 0.9165009940357853\n",
      "Classification Error: 0.08349900596421467\n",
      "Mean Cross Val (Accuracy) Score 0.916179104477612\n",
      "Mean Classification Error: 0.08382089552238803\n"
     ]
    },
    {
     "data": {
      "image/png": "[encoded data removed]",
      "text/plain": [
       "<Figure size 288x216 with 1 Axes>"
      ]
     },
     "metadata": {
      "needs_background": "light"
     },
     "output_type": "display_data"
    },
    {
     "name": "stdout",
     "output_type": "stream",
     "text": [
      "Area Under Curve: 0.9432278603125605\n"
     ]
    }
   ],
   "source": [
    "#Decision Tree Classifier \n",
    "from sklearn.tree import DecisionTreeClassifier\n",
    "model = DecisionTreeClassifier(criterion='entropy', max_depth= 8, min_samples_leaf= 3, min_samples_split= 2, \n",
    "                               random_state=1).fit(X_train, y_train)\n",
    "y_pred = model.predict(X_test)\n",
    "print(\"Accuracy:\",metrics.accuracy_score(y_test, y_pred))\n",
    "print(\"Classification Error:\",1-metrics.accuracy_score(y_test, y_pred))\n",
    "cv = RepeatedKFold(n_splits=5, n_repeats= 100, random_state=1)\n",
    "print(\"Mean Cross Val (Accuracy) Score\", np.mean(cross_val_score(model, X, y, cv=cv)))\n",
    "print(\"Mean Classification Error:\", 1 - np.mean(cross_val_score(model, X, y, scoring='accuracy', cv=cv, n_jobs=-1)))\n",
    "y_pred_proba = model.predict_proba(X_test)[:,1]\n",
    "fpr, tpr, _ = metrics.roc_curve(y_test, y_pred_proba)\n",
    "roc_auc = auc(fpr,tpr)\n",
    "plt.figure(figsize=(4,3))\n",
    "plt.plot(fpr, tpr, color='orange',\n",
    "lw=2, label='ROC curve (area = {0:.4f})'.format(roc_auc))\n",
    "plt.plot([0, 1], [0, 1], color='blue', lw=2, linestyle='--')\n",
    "plt.xlim([0.0, 1.0])\n",
    "plt.ylim([0.0, 1.05])\n",
    "plt.xlabel('False Positive Rate')\n",
    "plt.ylabel('True Positive Rate')\n",
    "plt.title('ROC curve')\n",
    "plt.legend(loc=\"lower right\")\n",
    "plt.show()\n",
    "print('Area Under Curve:', roc_auc) "
   ]
  },
  {
   "cell_type": "markdown",
   "id": "b6859921",
   "metadata": {},
   "source": [
    "### KNN Classifier"
   ]
  },
  {
   "cell_type": "markdown",
   "id": "c97d5a7f",
   "metadata": {},
   "source": [
    "- We use a different method to determine optimal k value "
   ]
  },
  {
   "cell_type": "code",
   "execution_count": 108,
   "id": "003ed01e",
   "metadata": {},
   "outputs": [
    {
     "name": "stdout",
     "output_type": "stream",
     "text": [
      "Accuracy value for k= 2 is: 0.9006  and RMSE value is: 0.31528\n",
      "Accuracy value for k= 3 is: 0.90258  and RMSE value is: 0.31211\n",
      "Accuracy value for k= 4 is: 0.89463  and RMSE value is: 0.3246\n",
      "Accuracy value for k= 5 is: 0.89463  and RMSE value is: 0.3246\n",
      "Accuracy value for k= 6 is: 0.90258  and RMSE value is: 0.31211\n",
      "Accuracy value for k= 7 is: 0.91451  and RMSE value is: 0.29238\n",
      "Accuracy value for k= 8 is: 0.9165  and RMSE value is: 0.28896\n",
      "Accuracy value for k= 9 is: 0.92247  and RMSE value is: 0.27845\n",
      "Accuracy value for k= 10 is: 0.91849  and RMSE value is: 0.2855\n",
      "Accuracy value for k= 11 is: 0.92048  and RMSE value is: 0.282\n",
      "Accuracy value for k= 12 is: 0.91252  and RMSE value is: 0.29576\n",
      "Accuracy value for k= 13 is: 0.91252  and RMSE value is: 0.29576\n",
      "Accuracy value for k= 14 is: 0.9165  and RMSE value is: 0.28896\n",
      "Accuracy value for k= 15 is: 0.92247  and RMSE value is: 0.27845\n",
      "Accuracy value for k= 16 is: 0.92247  and RMSE value is: 0.27845\n",
      "Accuracy value for k= 17 is: 0.92843  and RMSE value is: 0.26753\n",
      "Accuracy value for k= 18 is: 0.9165  and RMSE value is: 0.28896\n",
      "Accuracy value for k= 19 is: 0.92445  and RMSE value is: 0.27486\n",
      "Accuracy value for k= 20 is: 0.91849  and RMSE value is: 0.2855\n",
      "Accuracy value for k= 21 is: 0.92247  and RMSE value is: 0.27845\n",
      "Accuracy value for k= 22 is: 0.9165  and RMSE value is: 0.28896\n",
      "Accuracy value for k= 23 is: 0.92843  and RMSE value is: 0.26753\n",
      "Accuracy value for k= 24 is: 0.91849  and RMSE value is: 0.2855\n",
      "Accuracy value for k= 25 is: 0.92644  and RMSE value is: 0.27122\n"
     ]
    },
    {
     "data": {
      "image/png": "[encoded data removed]",
      "text/plain": [
       "<Figure size 288x216 with 1 Axes>"
      ]
     },
     "metadata": {
      "needs_background": "light"
     },
     "output_type": "display_data"
    },
    {
     "data": {
      "image/png": "[encoded data removed]",
      "text/plain": [
       "<Figure size 288x216 with 1 Axes>"
      ]
     },
     "metadata": {
      "needs_background": "light"
     },
     "output_type": "display_data"
    },
    {
     "name": "stdout",
     "output_type": "stream",
     "text": [
      "\n",
      "The best value is K= 17 with an accuracy of: 0.92843 and an RMSE of 0.26753\n",
      "Accuracy: 0.9284294234592445\n",
      "Classification Error: 0.07157057654075549\n",
      "Mean Cross Val (Accuracy) Score 0.9051820895522387\n",
      "Mean Classification Error: 0.09481791044776133\n"
     ]
    },
    {
     "data": {
      "image/png": "[encoded data removed]",
      "text/plain": [
       "<Figure size 288x216 with 1 Axes>"
      ]
     },
     "metadata": {
      "needs_background": "light"
     },
     "output_type": "display_data"
    },
    {
     "name": "stdout",
     "output_type": "stream",
     "text": [
      "Area Under Curve: 0.982024567496302\n"
     ]
    }
   ],
   "source": [
    "#KNN Classifier\n",
    "from sklearn.neighbors import KNeighborsClassifier\n",
    "accuracy = {}\n",
    "error = {}\n",
    "for K in range(1,25):\n",
    "    K = K+1\n",
    "    knn = KNeighborsClassifier(n_neighbors=K)\n",
    "    knn.fit(X_train, y_train)\n",
    "    y_pred = knn.predict(X_test)\n",
    "    accuracy_value = round(metrics.accuracy_score(y_test, y_pred),5)\n",
    "    accuracy.update({K: accuracy_value})\n",
    "    error_value = round((mean_squared_error(y_test, y_pred, squared=False)),5)\n",
    "    error.update({K: error_value})\n",
    "    print('Accuracy value for k=',K,'is:', accuracy_value, ' and RMSE value is:', error_value)\n",
    "import matplotlib.pyplot as plt\n",
    "plt.figure(figsize=(4,3))\n",
    "plt.title('kNN accuracy plot')\n",
    "plt.plot(accuracy.keys(), accuracy.values(), label = 'Testing Accuracy', color=\"green\")\n",
    "plt.legend()\n",
    "plt.xlabel('Number of Neighbors')\n",
    "plt.ylabel('Accuracy')\n",
    "plt.show()\n",
    "plt.figure(figsize=(4,3))\n",
    "plt.title('kNN RMSE plot')\n",
    "plt.plot(error.keys(), error.values(), label = 'RMSE', color=\"red\")\n",
    "plt.legend()\n",
    "plt.xlabel('Number of Neighbors')\n",
    "plt.ylabel('Testing RMSE')\n",
    "plt.show()\n",
    "print()\n",
    "print('The best value is K=', max(accuracy, key=accuracy.get), 'with an accuracy of:', max(accuracy.values()), \n",
    "      'and an RMSE of', min(error.values()))\n",
    "\n",
    "feature_cols = ['S','K','tau','r']\n",
    "X = option_train[feature_cols]\n",
    "y = option_train[\"BS\"]\n",
    "model = KNeighborsClassifier(n_neighbors=17)\n",
    "model.fit(X_train, y_train)\n",
    "y_pred = model.predict(X_test)\n",
    "print(\"Accuracy:\",metrics.accuracy_score(y_test, y_pred))\n",
    "print(\"Classification Error:\",1-metrics.accuracy_score(y_test, y_pred))\n",
    "cv = RepeatedKFold(n_splits=5, n_repeats= 100, random_state=1)\n",
    "print(\"Mean Cross Val (Accuracy) Score\", np.mean(cross_val_score(model, X, y, cv=cv)))\n",
    "print(\"Mean Classification Error:\", 1 - np.mean(cross_val_score(model, X, y, scoring='accuracy', cv=cv, n_jobs=-1)))\n",
    "y_pred_proba = model.predict_proba(X_test)[:,1]\n",
    "fpr, tpr, _ = metrics.roc_curve(y_test, y_pred_proba)\n",
    "roc_auc = auc(fpr,tpr)\n",
    "plt.figure(figsize=(4,3))\n",
    "plt.plot(fpr, tpr, color='orange',\n",
    "lw=2, label='ROC curve (area = {0:.4f})'.format(roc_auc))\n",
    "plt.plot([0, 1], [0, 1], color='blue', lw=2, linestyle='--')\n",
    "plt.xlim([0.0, 1.0])\n",
    "plt.ylim([0.0, 1.05])\n",
    "plt.xlabel('False Positive Rate')\n",
    "plt.ylabel('True Positive Rate')\n",
    "plt.title('ROC curve')\n",
    "plt.legend(loc=\"lower right\")\n",
    "plt.show()\n",
    "print('Area Under Curve:', roc_auc)"
   ]
  },
  {
   "cell_type": "markdown",
   "id": "fb35f388",
   "metadata": {},
   "source": [
    "### Linear Discriminant Analysis "
   ]
  },
  {
   "cell_type": "code",
   "execution_count": 433,
   "id": "fc35a5ca",
   "metadata": {},
   "outputs": [
    {
     "name": "stdout",
     "output_type": "stream",
     "text": [
      "Best Parameters:  {'solver': 'svd'}\n",
      "Accuracy Score:  0.9095683036361002\n"
     ]
    }
   ],
   "source": [
    "#Linear Discriminant Analysis\n",
    "from sklearn.discriminant_analysis import LinearDiscriminantAnalysis\n",
    "model = LinearDiscriminantAnalysis()\n",
    "forest_params = {'solver' : ['svd', 'lsqr', 'eigen']}\n",
    "clf = GridSearchCV(model, forest_params, cv = 10, scoring='accuracy')\n",
    "clf.fit(X_train, y_train)\n",
    "print('Best Parameters: ', clf.best_params_)\n",
    "print('Accuracy Score: ', clf.best_score_)"
   ]
  },
  {
   "cell_type": "code",
   "execution_count": 434,
   "id": "b3f11b3b",
   "metadata": {},
   "outputs": [
    {
     "name": "stdout",
     "output_type": "stream",
     "text": [
      "Accuracy: 0.9065606361829026\n",
      "Classification Error: 0.09343936381709739\n",
      "Mean Cross Val (Accuracy) Score 0.9122388059701492\n",
      "Mean Classification Error: 0.08776119402985083\n"
     ]
    },
    {
     "data": {
      "image/png": "[encoded data removed]",
      "text/plain": [
       "<Figure size 288x216 with 1 Axes>"
      ]
     },
     "metadata": {
      "needs_background": "light"
     },
     "output_type": "display_data"
    },
    {
     "name": "stdout",
     "output_type": "stream",
     "text": [
      "Area Under Curve: 0.9757219113769374\n"
     ]
    }
   ],
   "source": [
    "#Linear Discriminant Analysis \n",
    "from sklearn.discriminant_analysis import LinearDiscriminantAnalysis\n",
    "from sklearn.model_selection import train_test_split\n",
    "model = LinearDiscriminantAnalysis(solver = 'svd').fit(X_train, y_train)\n",
    "y_pred = model.predict(X_test)\n",
    "print(\"Accuracy:\",metrics.accuracy_score(y_test, y_pred))\n",
    "print(\"Classification Error:\",1-metrics.accuracy_score(y_test, y_pred))\n",
    "cv = RepeatedKFold(n_splits=5, n_repeats= 100, random_state=1)\n",
    "print(\"Mean Cross Val (Accuracy) Score\", np.mean(cross_val_score(model, X, y, cv=cv)))\n",
    "print(\"Mean Classification Error:\", 1 - np.mean(cross_val_score(model, X, y, scoring='accuracy', cv=cv, n_jobs=-1)))\n",
    "y_pred_proba = model.predict_proba(X_test)[:,1]\n",
    "fpr, tpr, _ = metrics.roc_curve(y_test, y_pred_proba)\n",
    "roc_auc = auc(fpr,tpr)\n",
    "plt.figure(figsize=(4,3))\n",
    "plt.plot(fpr, tpr, color='orange',\n",
    "lw=2, label='ROC curve (area = {0:.4f})'.format(roc_auc))\n",
    "plt.plot([0, 1], [0, 1], color='blue', lw=2, linestyle='--')\n",
    "plt.xlim([0.0, 1.0])\n",
    "plt.ylim([0.0, 1.05])\n",
    "plt.xlabel('False Positive Rate')\n",
    "plt.ylabel('True Positive Rate')\n",
    "plt.title('ROC curve')\n",
    "plt.legend(loc=\"lower right\")\n",
    "plt.show()\n",
    "print('Area Under Curve:', roc_auc)"
   ]
  },
  {
   "cell_type": "markdown",
   "id": "fcb5fa3e",
   "metadata": {},
   "source": [
    "### Random Forest Classifier"
   ]
  },
  {
   "cell_type": "code",
   "execution_count": 110,
   "id": "057849f8",
   "metadata": {},
   "outputs": [
    {
     "name": "stdout",
     "output_type": "stream",
     "text": [
      "Best Parameters:  {'class_weight': 'balanced', 'max_depth': 13, 'max_features': 4, 'n_estimators': 100}\n",
      "Accuracy Score:  0.9351296537737216\n"
     ]
    }
   ],
   "source": [
    "#Random Forest Classifier\n",
    "from sklearn.ensemble import RandomForestClassifier\n",
    "model = RandomForestClassifier()\n",
    "forest_params = {\n",
    "    'n_estimators': [100,500],\n",
    "    'max_depth' : [1,3,5,7,9,11,13,15],\n",
    "    'max_features': [4],\n",
    "    'class_weight': ['balanced']\n",
    "}\n",
    "clf = GridSearchCV(model, forest_params, cv = 10, scoring='accuracy')\n",
    "clf.fit(X_train, y_train)\n",
    "print('Best Parameters: ', clf.best_params_)\n",
    "print('Accuracy Score: ', clf.best_score_)"
   ]
  },
  {
   "cell_type": "code",
   "execution_count": 111,
   "id": "d1aafc9f",
   "metadata": {},
   "outputs": [
    {
     "name": "stdout",
     "output_type": "stream",
     "text": [
      "Accuracy: 0.904572564612326\n",
      "Classification Error: 0.09542743538767395\n",
      "Mean Cross Val (Accuracy) Score 0.9292477611940299\n",
      "Mean Classification Error: 0.07075223880597015\n"
     ]
    },
    {
     "data": {
      "image/png": "[encoded data removed]",
      "text/plain": [
       "<Figure size 288x216 with 1 Axes>"
      ]
     },
     "metadata": {
      "needs_background": "light"
     },
     "output_type": "display_data"
    },
    {
     "name": "stdout",
     "output_type": "stream",
     "text": [
      "Area Under Curve: 0.9846211975046626\n"
     ]
    },
    {
     "data": {
      "image/png": "[encoded data removed]",
      "text/plain": [
       "<Figure size 432x288 with 1 Axes>"
      ]
     },
     "metadata": {
      "needs_background": "light"
     },
     "output_type": "display_data"
    }
   ],
   "source": [
    "#Random Forest Classifier\n",
    "from sklearn.ensemble import RandomForestClassifier\n",
    "model = RandomForestClassifier(n_estimators=100, max_depth=13, max_features= 4, \n",
    "                               class_weight='balanced', random_state=1).fit(X_train, y_train)\n",
    "y_pred = model.predict(X_test)\n",
    "print(\"Accuracy:\",metrics.accuracy_score(y_test, y_pred))\n",
    "print(\"Classification Error:\",1-metrics.accuracy_score(y_test, y_pred))\n",
    "cv = RepeatedKFold(n_splits=5, n_repeats= 100, random_state=1)\n",
    "print(\"Mean Cross Val (Accuracy) Score\", np.mean(cross_val_score(model, X, y, cv=cv)))\n",
    "print(\"Mean Classification Error:\", 1 - np.mean(cross_val_score(model, X, y, scoring='accuracy', cv=cv, n_jobs=-1)))\n",
    "y_pred_proba = model.predict_proba(X_test)[:,1]\n",
    "fpr, tpr, _ = metrics.roc_curve(y_test, y_pred_proba)\n",
    "roc_auc = auc(fpr,tpr)\n",
    "plt.figure(figsize=(4,3))\n",
    "plt.plot(fpr, tpr, color='orange',\n",
    "lw=2, label='ROC curve (area = {0:.4f})'.format(roc_auc))\n",
    "plt.plot([0, 1], [0, 1], color='blue', lw=2, linestyle='--')\n",
    "plt.xlim([0.0, 1.0])\n",
    "plt.ylim([0.0, 1.05])\n",
    "plt.xlabel('False Positive Rate')\n",
    "plt.ylabel('True Positive Rate')\n",
    "plt.title('ROC curve')\n",
    "plt.legend(loc=\"lower right\")\n",
    "plt.show()\n",
    "print('Area Under Curve:', roc_auc)\n",
    "\n",
    "import pandas as pd\n",
    "feature_imp = pd.Series(model.feature_importances_,index=feature_cols).sort_values(ascending=False)\n",
    "feature_imp\n",
    "import matplotlib.pyplot as plt\n",
    "import seaborn as sns\n",
    "%matplotlib inline\n",
    "sns.barplot(x=feature_imp, y=feature_imp.index, label='Strike price of option')\n",
    "plt.xlabel('Feature Importance Score')\n",
    "plt.ylabel('Features')\n",
    "plt.title(\"Visualizing Important Features\")\n",
    "plt.legend()\n",
    "plt.show()"
   ]
  },
  {
   "cell_type": "markdown",
   "id": "4e7f4418",
   "metadata": {},
   "source": [
    "### Gaussian Naive Bayes Classifier "
   ]
  },
  {
   "cell_type": "code",
   "execution_count": 900,
   "id": "1596f81e",
   "metadata": {},
   "outputs": [
    {
     "name": "stdout",
     "output_type": "stream",
     "text": [
      "Best Parameters:  {'var_smoothing': 0.43287612810830584}\n",
      "Accuracy Score:  0.8856149500217297\n"
     ]
    }
   ],
   "source": [
    "# Gaussian Naive Bayes Classifier \n",
    "from sklearn.naive_bayes import GaussianNB \n",
    "model = GaussianNB()\n",
    "forest_params = {'var_smoothing': np.logspace(0,-9, num=100)}\n",
    "clf = GridSearchCV(model, forest_params, cv = 10, scoring='accuracy')\n",
    "clf.fit(X_train, y_train)\n",
    "print('Best Parameters: ', clf.best_params_)\n",
    "print('Accuracy Score: ', clf.best_score_)"
   ]
  },
  {
   "cell_type": "code",
   "execution_count": 112,
   "id": "3f688f54",
   "metadata": {},
   "outputs": [
    {
     "name": "stdout",
     "output_type": "stream",
     "text": [
      "Accuracy: 0.878727634194831\n",
      "Classification Error: 0.12127236580516898\n",
      "Mean Cross Val (Accuracy) Score 0.8757850746268657\n",
      "Mean Classification Error: 0.12421492537313428\n"
     ]
    },
    {
     "data": {
      "image/png": "[encoded data removed]",
      "text/plain": [
       "<Figure size 288x216 with 1 Axes>"
      ]
     },
     "metadata": {
      "needs_background": "light"
     },
     "output_type": "display_data"
    },
    {
     "name": "stdout",
     "output_type": "stream",
     "text": [
      "Area Under Curve: 0.9629236606855746\n"
     ]
    }
   ],
   "source": [
    "# Gaussian Naive Bayes Classifier \n",
    "from sklearn.naive_bayes import GaussianNB \n",
    "model = GaussianNB(var_smoothing= 0.43287612810830584).fit(X_train, y_train)\n",
    "y_pred = model.predict(X_test)\n",
    "print(\"Accuracy:\",metrics.accuracy_score(y_test, y_pred))\n",
    "print(\"Classification Error:\",1-metrics.accuracy_score(y_test, y_pred))\n",
    "cv = RepeatedKFold(n_splits=5, n_repeats= 100, random_state=1)\n",
    "print(\"Mean Cross Val (Accuracy) Score\", np.mean(cross_val_score(model, X, y, cv=cv)))\n",
    "print(\"Mean Classification Error:\", 1 - np.mean(cross_val_score(model, X, y, scoring='accuracy', cv=cv, n_jobs=-1)))\n",
    "y_pred_proba = model.predict_proba(X_test)[:,1]\n",
    "fpr, tpr, _ = metrics.roc_curve(y_test, y_pred_proba)\n",
    "roc_auc = auc(fpr,tpr)\n",
    "plt.figure(figsize=(4,3))\n",
    "plt.plot(fpr, tpr, color='orange',\n",
    "lw=2, label='ROC curve (area = {0:.4f})'.format(roc_auc))\n",
    "plt.plot([0, 1], [0, 1], color='blue', lw=2, linestyle='--')\n",
    "plt.xlim([0.0, 1.0])\n",
    "plt.ylim([0.0, 1.05])\n",
    "plt.xlabel('False Positive Rate')\n",
    "plt.ylabel('True Positive Rate')\n",
    "plt.title('ROC curve')\n",
    "plt.legend(loc=\"lower right\")\n",
    "plt.show()\n",
    "print('Area Under Curve:', roc_auc)"
   ]
  },
  {
   "cell_type": "markdown",
   "id": "87a81cb8",
   "metadata": {},
   "source": [
    "### Ada Boost Classifier "
   ]
  },
  {
   "cell_type": "code",
   "execution_count": 903,
   "id": "5250fda3",
   "metadata": {},
   "outputs": [
    {
     "name": "stdout",
     "output_type": "stream",
     "text": [
      "Best Parameters:  {'learning_rate': 0.5, 'n_estimators': 500}\n",
      "Accuracy Score:  0.9232217876285673\n"
     ]
    }
   ],
   "source": [
    "# Ada Boost Classifier \n",
    "from sklearn.ensemble import AdaBoostClassifier\n",
    "model = AdaBoostClassifier()\n",
    "forest_params = {'n_estimators':[100,500],'learning_rate':[0.01,.1,.5,1]}\n",
    "clf = GridSearchCV(model, forest_params, cv = 10, scoring='accuracy')\n",
    "clf.fit(X_train, y_train)\n",
    "print('Best Parameters: ', clf.best_params_)\n",
    "print('Accuracy Score: ', clf.best_score_)"
   ]
  },
  {
   "cell_type": "code",
   "execution_count": 113,
   "id": "6c724403",
   "metadata": {},
   "outputs": [
    {
     "name": "stdout",
     "output_type": "stream",
     "text": [
      "Accuracy: 0.9145129224652088\n",
      "Classification Error: 0.08548707753479123\n",
      "Mean Cross Val (Accuracy) Score 0.9221432835820894\n",
      "Mean Classification Error: 0.07785671641791059\n"
     ]
    },
    {
     "data": {
      "image/png": "[encoded data removed]",
      "text/plain": [
       "<Figure size 288x216 with 1 Axes>"
      ]
     },
     "metadata": {
      "needs_background": "light"
     },
     "output_type": "display_data"
    },
    {
     "name": "stdout",
     "output_type": "stream",
     "text": [
      "Area Under Curve: 0.975311917165091\n"
     ]
    }
   ],
   "source": [
    "# Ada Boost Classifier \n",
    "from sklearn.ensemble import AdaBoostClassifier\n",
    "model = AdaBoostClassifier(n_estimators=500,learning_rate=.5, random_state=1).fit(X_train, y_train)\n",
    "y_pred = model.predict(X_test)\n",
    "print(\"Accuracy:\",metrics.accuracy_score(y_test, y_pred))\n",
    "print(\"Classification Error:\",1-metrics.accuracy_score(y_test, y_pred))\n",
    "cv = RepeatedKFold(n_splits=5, n_repeats= 100, random_state=1)\n",
    "print(\"Mean Cross Val (Accuracy) Score\", np.mean(cross_val_score(model, X, y, cv=cv)))\n",
    "print(\"Mean Classification Error:\", 1 - np.mean(cross_val_score(model, X, y, scoring='accuracy', cv=cv, n_jobs=-1)))\n",
    "y_pred_proba = model.predict_proba(X_test)[:,1]\n",
    "fpr, tpr, _ = metrics.roc_curve(y_test, y_pred_proba)\n",
    "roc_auc = auc(fpr,tpr)\n",
    "plt.figure(figsize=(4,3))\n",
    "plt.plot(fpr, tpr, color='orange',\n",
    "lw=2, label='ROC curve (area = {0:.4f})'.format(roc_auc))\n",
    "plt.plot([0, 1], [0, 1], color='blue', lw=2, linestyle='--')\n",
    "plt.xlim([0.0, 1.0])\n",
    "plt.ylim([0.0, 1.05])\n",
    "plt.xlabel('False Positive Rate')\n",
    "plt.ylabel('True Positive Rate')\n",
    "plt.title('ROC curve')\n",
    "plt.legend(loc=\"lower right\")\n",
    "plt.show()\n",
    "print('Area Under Curve:', roc_auc)"
   ]
  },
  {
   "cell_type": "markdown",
   "id": "6cb2ca67",
   "metadata": {},
   "source": [
    "### Ridge Classifier "
   ]
  },
  {
   "cell_type": "code",
   "execution_count": 913,
   "id": "04551c56",
   "metadata": {},
   "outputs": [
    {
     "name": "stdout",
     "output_type": "stream",
     "text": [
      "Best Parameters:  {'alpha': 0.0001}\n",
      "Accuracy Score:  0.9087136027813993\n"
     ]
    }
   ],
   "source": [
    "#Ridge Classifier \n",
    "from sklearn.linear_model import RidgeClassifier\n",
    "model = RidgeClassifier()\n",
    "forest_params = {'alpha':np.array([.0001, .001,.01,.1,.5,1])}\n",
    "clf = GridSearchCV(model, forest_params, cv = 10, scoring='accuracy')\n",
    "clf.fit(X_train, y_train)\n",
    "print('Best Parameters: ', clf.best_params_)\n",
    "print('Accuracy Score: ', clf.best_score_)"
   ]
  },
  {
   "cell_type": "code",
   "execution_count": 114,
   "id": "3e2380f6",
   "metadata": {},
   "outputs": [
    {
     "name": "stdout",
     "output_type": "stream",
     "text": [
      "Accuracy: 0.9065606361829026\n",
      "Classification Error: 0.09343936381709739\n",
      "Mean Cross Val (Accuracy) Score 0.9111820895522388\n",
      "Mean Classification Error: 0.08881791044776122\n"
     ]
    },
    {
     "data": {
      "image/png": "[encoded data removed]",
      "text/plain": [
       "<Figure size 288x216 with 1 Axes>"
      ]
     },
     "metadata": {
      "needs_background": "light"
     },
     "output_type": "display_data"
    },
    {
     "name": "stdout",
     "output_type": "stream",
     "text": [
      "Area Under Curve: 0.9757219113769374\n"
     ]
    }
   ],
   "source": [
    "#Ridge Classifier \n",
    "from sklearn.linear_model import RidgeClassifier\n",
    "model = RidgeClassifier(alpha=.0001, random_state=1).fit(X_train, y_train)\n",
    "y_pred = model.predict(X_test)\n",
    "print(\"Accuracy:\",metrics.accuracy_score(y_test, y_pred))\n",
    "print(\"Classification Error:\",1-metrics.accuracy_score(y_test, y_pred))\n",
    "cv = RepeatedKFold(n_splits=5, n_repeats= 100, random_state=1)\n",
    "print(\"Mean Cross Val (Accuracy) Score\", np.mean(cross_val_score(model, X, y, cv=cv)))\n",
    "print(\"Mean Classification Error:\", 1 - np.mean(cross_val_score(model, X, y, scoring='accuracy', cv=cv, n_jobs=-1)))\n",
    "y_pred_proba = model._predict_proba_lr(X_test)[:,1]\n",
    "fpr, tpr, _ = metrics.roc_curve(y_test, y_pred_proba)\n",
    "roc_auc = auc(fpr,tpr)\n",
    "plt.figure(figsize=(4,3))\n",
    "plt.plot(fpr, tpr, color='orange',\n",
    "lw=2, label='ROC curve (area = {0:.4f})'.format(roc_auc))\n",
    "plt.plot([0, 1], [0, 1], color='blue', lw=2, linestyle='--')\n",
    "plt.xlim([0.0, 1.0])\n",
    "plt.ylim([0.0, 1.05])\n",
    "plt.xlabel('False Positive Rate')\n",
    "plt.ylabel('True Positive Rate')\n",
    "plt.title('ROC curve')\n",
    "plt.legend(loc=\"lower right\")\n",
    "plt.show()\n",
    "print('Area Under Curve:', roc_auc)"
   ]
  },
  {
   "cell_type": "markdown",
   "id": "04856f1d",
   "metadata": {},
   "source": [
    "### Gradient Boosting Classifier "
   ]
  },
  {
   "cell_type": "code",
   "execution_count": 915,
   "id": "8c30b343",
   "metadata": {},
   "outputs": [
    {
     "name": "stdout",
     "output_type": "stream",
     "text": [
      "Best Parameters:  {'learning_rate': 1, 'max_depth': 3, 'n_estimators': 100}\n",
      "Accuracy Score:  0.9394248877299726\n"
     ]
    }
   ],
   "source": [
    "# Gradient Boosting Classifier \n",
    "from sklearn.ensemble import GradientBoostingClassifier\n",
    "model = GradientBoostingClassifier()\n",
    "forest_params = { \"learning_rate\": [.001,.01,.1,.5,1], \n",
    "                 \"max_depth\":[1,3,5,7,9,11,13,15],  \n",
    "                 \"n_estimators\":[100,500]}\n",
    "clf = GridSearchCV(model, forest_params, cv = 10, scoring='accuracy')\n",
    "clf.fit(X_train, y_train)\n",
    "print('Best Parameters: ', clf.best_params_)\n",
    "print('Accuracy Score: ', clf.best_score_)"
   ]
  },
  {
   "cell_type": "code",
   "execution_count": 115,
   "id": "a53d0e8b",
   "metadata": {},
   "outputs": [
    {
     "name": "stdout",
     "output_type": "stream",
     "text": [
      "Accuracy: 0.9343936381709742\n",
      "Classification Error: 0.0656063618290258\n",
      "Mean Cross Val (Accuracy) Score 0.9293014925373134\n",
      "Mean Classification Error: 0.07069850746268658\n"
     ]
    },
    {
     "data": {
      "image/png": "[encoded data removed]",
      "text/plain": [
       "<Figure size 288x216 with 1 Axes>"
      ]
     },
     "metadata": {
      "needs_background": "light"
     },
     "output_type": "display_data"
    },
    {
     "name": "stdout",
     "output_type": "stream",
     "text": [
      "Area Under Curve: 0.9862692134542415\n"
     ]
    }
   ],
   "source": [
    "# Gradient Boosting Classifier \n",
    "from sklearn.ensemble import GradientBoostingClassifier\n",
    "model = GradientBoostingClassifier(n_estimators=100, learning_rate=1, max_depth=3, random_state=1).fit(X_train, y_train)\n",
    "y_pred = model.predict(X_test)\n",
    "print(\"Accuracy:\",metrics.accuracy_score(y_test, y_pred))\n",
    "print(\"Classification Error:\",1-metrics.accuracy_score(y_test, y_pred))\n",
    "cv = RepeatedKFold(n_splits=5, n_repeats= 100, random_state=1)\n",
    "print(\"Mean Cross Val (Accuracy) Score\", np.mean(cross_val_score(model, X, y, cv=cv)))\n",
    "print(\"Mean Classification Error:\", 1 - np.mean(cross_val_score(model, X, y, scoring='accuracy', cv=cv, n_jobs=-1)))\n",
    "y_pred_proba = model.predict_proba(X_test)[:,1]\n",
    "fpr, tpr, _ = metrics.roc_curve(y_test, y_pred_proba)\n",
    "roc_auc = auc(fpr,tpr)\n",
    "plt.figure(figsize=(4,3))\n",
    "plt.plot(fpr, tpr, color='orange',\n",
    "lw=2, label='ROC curve (area = {0:.4f})'.format(roc_auc))\n",
    "plt.plot([0, 1], [0, 1], color='blue', lw=2, linestyle='--')\n",
    "plt.xlim([0.0, 1.0])\n",
    "plt.ylim([0.0, 1.05])\n",
    "plt.xlabel('False Positive Rate')\n",
    "plt.ylabel('True Positive Rate')\n",
    "plt.title('ROC curve')\n",
    "plt.legend(loc=\"lower right\")\n",
    "plt.show()\n",
    "print('Area Under Curve:', roc_auc)"
   ]
  },
  {
   "cell_type": "markdown",
   "id": "67ec0726",
   "metadata": {},
   "source": [
    "### Cat Boost Classifier "
   ]
  },
  {
   "cell_type": "markdown",
   "id": "c121c49b",
   "metadata": {},
   "source": [
    "- GridSearchCV was not working, we did trial an error to find the best hyperparameters. "
   ]
  },
  {
   "cell_type": "code",
   "execution_count": 116,
   "id": "49542dbb",
   "metadata": {
    "scrolled": true
   },
   "outputs": [
    {
     "name": "stdout",
     "output_type": "stream",
     "text": [
      "Accuracy: 0.9383697813121272\n",
      "Classification Error: 0.06163021868787277\n",
      "Mean Cross Val (Accuracy) Score 0.9312358208955225\n",
      "Mean Classification Error: 0.06876417910447752\n"
     ]
    },
    {
     "data": {
      "image/png": "[encoded data removed]",
      "text/plain": [
       "<Figure size 288x216 with 1 Axes>"
      ]
     },
     "metadata": {
      "needs_background": "light"
     },
     "output_type": "display_data"
    },
    {
     "name": "stdout",
     "output_type": "stream",
     "text": [
      "Area Under Curve: 0.9851839346581773\n"
     ]
    }
   ],
   "source": [
    "#Cat Boost Classifier \n",
    "from catboost import CatBoostClassifier\n",
    "model = CatBoostClassifier(iterations=9,learning_rate=1,depth=10,logging_level='Silent').fit(X_train, y_train)\n",
    "y_pred = model.predict(X_test)\n",
    "print(\"Accuracy:\",metrics.accuracy_score(y_test, y_pred))\n",
    "print(\"Classification Error:\",1-metrics.accuracy_score(y_test, y_pred))\n",
    "cv = RepeatedKFold(n_splits=5, n_repeats= 100, random_state=1)\n",
    "print(\"Mean Cross Val (Accuracy) Score\", np.mean(cross_val_score(model, X, y, cv=cv)))\n",
    "print(\"Mean Classification Error:\", 1 - np.mean(cross_val_score(model, X, y, scoring='accuracy', cv=cv, n_jobs=-1)))\n",
    "y_pred_proba = model.predict_proba(X_test)[:,1]\n",
    "fpr, tpr, _ = metrics.roc_curve(y_test, y_pred_proba)\n",
    "roc_auc = auc(fpr,tpr)\n",
    "plt.figure(figsize=(4,3))\n",
    "plt.plot(fpr, tpr, color='orange',\n",
    "lw=2, label='ROC curve (area = {0:.4f})'.format(roc_auc))\n",
    "plt.plot([0, 1], [0, 1], color='blue', lw=2, linestyle='--')\n",
    "plt.xlim([0.0, 1.0])\n",
    "plt.ylim([0.0, 1.05])\n",
    "plt.xlabel('False Positive Rate')\n",
    "plt.ylabel('True Positive Rate')\n",
    "plt.title('ROC curve')\n",
    "plt.legend(loc=\"lower right\")\n",
    "plt.show()\n",
    "print('Area Under Curve:', roc_auc)"
   ]
  },
  {
   "cell_type": "markdown",
   "id": "8e453c1d",
   "metadata": {},
   "source": [
    "### XGBoost Classifier"
   ]
  },
  {
   "cell_type": "markdown",
   "id": "c4243e44",
   "metadata": {},
   "source": [
    "- GridSearchCV was not working, we did trial an error to find the best hyperparameters. "
   ]
  },
  {
   "cell_type": "code",
   "execution_count": 117,
   "id": "8e7306c2",
   "metadata": {},
   "outputs": [
    {
     "name": "stdout",
     "output_type": "stream",
     "text": [
      "Accuracy: 0.9383697813121272\n",
      "Classification Error: 0.06163021868787277\n",
      "Mean Cross Val (Accuracy) Score 0.9333313432835821\n",
      "Mean Classification Error: 0.06666865671641786\n"
     ]
    },
    {
     "data": {
      "image/png": "[encoded data removed]",
      "text/plain": [
       "<Figure size 288x216 with 1 Axes>"
      ]
     },
     "metadata": {
      "needs_background": "light"
     },
     "output_type": "display_data"
    },
    {
     "name": "stdout",
     "output_type": "stream",
     "text": [
      "Area Under Curve: 0.9860280403884493\n"
     ]
    }
   ],
   "source": [
    "# XGBoost Classifier \n",
    "from xgboost import XGBClassifier\n",
    "model = XGBClassifier(learning_rate= 1, max_depth= 4, eta=1).fit(X_train, y_train)\n",
    "y_pred = model.predict(X_test)\n",
    "print(\"Accuracy:\",metrics.accuracy_score(y_test, y_pred))\n",
    "print(\"Classification Error:\",1-metrics.accuracy_score(y_test, y_pred))\n",
    "cv = RepeatedKFold(n_splits=5, n_repeats= 100, random_state=1)\n",
    "print(\"Mean Cross Val (Accuracy) Score\", np.mean(cross_val_score(model, X, y, cv=cv)))\n",
    "print(\"Mean Classification Error:\", 1 - np.mean(cross_val_score(model, X, y, scoring='accuracy', cv=cv, n_jobs=-1)))\n",
    "y_pred_proba = model.predict_proba(X_test)[:,1]\n",
    "fpr, tpr, _ = metrics.roc_curve(y_test, y_pred_proba)\n",
    "roc_auc = auc(fpr,tpr)\n",
    "plt.figure(figsize=(4,3))\n",
    "plt.plot(fpr, tpr, color='orange',\n",
    "lw=2, label='ROC curve (area = {0:.4f})'.format(roc_auc))\n",
    "plt.plot([0, 1], [0, 1], color='blue', lw=2, linestyle='--')\n",
    "plt.xlim([0.0, 1.0])\n",
    "plt.ylim([0.0, 1.05])\n",
    "plt.xlabel('False Positive Rate')\n",
    "plt.ylabel('True Positive Rate')\n",
    "plt.title('ROC curve')\n",
    "plt.legend(loc=\"lower right\")\n",
    "plt.show()\n",
    "print('Area Under Curve:', roc_auc)"
   ]
  },
  {
   "cell_type": "markdown",
   "id": "76e2606f",
   "metadata": {},
   "source": [
    "### Extra Trees Classifier "
   ]
  },
  {
   "cell_type": "code",
   "execution_count": 971,
   "id": "ff49a943",
   "metadata": {},
   "outputs": [
    {
     "name": "stdout",
     "output_type": "stream",
     "text": [
      "Best Parameters:  {'max_depth': 11, 'n_estimators': 500}\n",
      "Accuracy Score:  0.938548457192525\n"
     ]
    }
   ],
   "source": [
    "#Extra Trees Classifier \n",
    "from sklearn.ensemble import ExtraTreesClassifier\n",
    "model = ExtraTreesClassifier()\n",
    "forest_params = {\"max_depth\":[1,3,5,7,9,11,13,15],  \n",
    "                 \"n_estimators\":[100,500]}\n",
    "clf = GridSearchCV(model, forest_params, cv = 10, scoring='accuracy')\n",
    "clf.fit(X_train, y_train)\n",
    "print('Best Parameters: ', clf.best_params_)\n",
    "print('Accuracy Score: ', clf.best_score_)"
   ]
  },
  {
   "cell_type": "code",
   "execution_count": 118,
   "id": "5b4d25d2",
   "metadata": {},
   "outputs": [
    {
     "name": "stdout",
     "output_type": "stream",
     "text": [
      "Accuracy: 0.9224652087475149\n",
      "Classification Error: 0.07753479125248508\n",
      "Mean Cross Val (Accuracy) Score 0.9319582089552239\n",
      "Mean Classification Error: 0.06804179104477615\n"
     ]
    },
    {
     "data": {
      "image/png": "[encoded data removed]",
      "text/plain": [
       "<Figure size 288x216 with 1 Axes>"
      ]
     },
     "metadata": {
      "needs_background": "light"
     },
     "output_type": "display_data"
    },
    {
     "name": "stdout",
     "output_type": "stream",
     "text": [
      "Area Under Curve: 0.9852723647823011\n"
     ]
    }
   ],
   "source": [
    "#Extra Trees Classifier \n",
    "from sklearn.ensemble import ExtraTreesClassifier \n",
    "model = ExtraTreesClassifier(n_estimators=500, max_depth = 11, random_state=1).fit(X_train, y_train)\n",
    "y_pred = model.predict(X_test)\n",
    "print(\"Accuracy:\",metrics.accuracy_score(y_test, y_pred))\n",
    "print(\"Classification Error:\",1-metrics.accuracy_score(y_test, y_pred))\n",
    "cv = RepeatedKFold(n_splits=5, n_repeats= 100, random_state=1)\n",
    "print(\"Mean Cross Val (Accuracy) Score\", np.mean(cross_val_score(model, X, y, cv=cv)))\n",
    "print(\"Mean Classification Error:\", 1 - np.mean(cross_val_score(model, X, y, scoring='accuracy', cv=cv, n_jobs=-1)))\n",
    "y_pred_proba = model.predict_proba(X_test)[:,1]\n",
    "fpr, tpr, _ = metrics.roc_curve(y_test, y_pred_proba)\n",
    "roc_auc = auc(fpr,tpr)\n",
    "plt.figure(figsize=(4,3))\n",
    "plt.plot(fpr, tpr, color='orange',\n",
    "lw=2, label='ROC curve (area = {0:.4f})'.format(roc_auc))\n",
    "plt.plot([0, 1], [0, 1], color='blue', lw=2, linestyle='--')\n",
    "plt.xlim([0.0, 1.0])\n",
    "plt.ylim([0.0, 1.05])\n",
    "plt.xlabel('False Positive Rate')\n",
    "plt.ylabel('True Positive Rate')\n",
    "plt.title('ROC curve')\n",
    "plt.legend(loc=\"lower right\")\n",
    "plt.show()\n",
    "print('Area Under Curve:', roc_auc)"
   ]
  },
  {
   "cell_type": "markdown",
   "id": "b692ebc4",
   "metadata": {},
   "source": [
    "### Support Vector Classifier (SVC)"
   ]
  },
  {
   "cell_type": "code",
   "execution_count": 980,
   "id": "d675f777",
   "metadata": {},
   "outputs": [
    {
     "name": "stdout",
     "output_type": "stream",
     "text": [
      "Best Parameters:  {'C': 10, 'decision_function_shape': 'ovo', 'gamma': 'scale'}\n",
      "Accuracy Score:  0.9377009995654063\n"
     ]
    }
   ],
   "source": [
    "#Support Vector Classifier (SVCs)\n",
    "from sklearn.svm import SVC\n",
    "model = SVC()\n",
    "forest_params = {'C': [0.1, 1, 10, 100, 1000],\n",
    "              'gamma': ['scale', 'auto'],\n",
    "               'decision_function_shape': ['ovo', 'ovr']}\n",
    "clf = GridSearchCV(model, forest_params, cv = 10, scoring='accuracy')\n",
    "clf.fit(X_train, y_train)\n",
    "print('Best Parameters: ', clf.best_params_)\n",
    "print('Accuracy Score: ', clf.best_score_)"
   ]
  },
  {
   "cell_type": "code",
   "execution_count": 119,
   "id": "14e58e87",
   "metadata": {},
   "outputs": [
    {
     "name": "stdout",
     "output_type": "stream",
     "text": [
      "Accuracy: 0.9244532803180915\n",
      "Classification Error: 0.07554671968190851\n",
      "Mean Cross Val (Accuracy) Score 0.9087880597014926\n",
      "Mean Classification Error: 0.09121194029850743\n"
     ]
    },
    {
     "data": {
      "image/png": "[encoded data removed]",
      "text/plain": [
       "<Figure size 288x216 with 1 Axes>"
      ]
     },
     "metadata": {
      "needs_background": "light"
     },
     "output_type": "display_data"
    },
    {
     "name": "stdout",
     "output_type": "stream",
     "text": [
      "Area Under Curve: 0.9817190816129654\n"
     ]
    }
   ],
   "source": [
    "#Support Vector Machines (SVMs)\n",
    "from sklearn import svm\n",
    "model = svm.SVC(decision_function_shape='ovo', gamma = 'scale', C=10, probability=True).fit(X_train, y_train)\n",
    "y_pred = model.predict(X_test)\n",
    "print(\"Accuracy:\",metrics.accuracy_score(y_test, y_pred))\n",
    "print(\"Classification Error:\",1-metrics.accuracy_score(y_test, y_pred))\n",
    "cv = RepeatedKFold(n_splits=5, n_repeats= 100, random_state=1)\n",
    "print(\"Mean Cross Val (Accuracy) Score\", np.mean(cross_val_score(model, X, y, cv=cv)))\n",
    "print(\"Mean Classification Error:\", 1 - np.mean(cross_val_score(model, X, y, scoring='accuracy', cv=cv, n_jobs=-1)))\n",
    "y_pred_proba = model.predict_proba(X_test)[:,1]\n",
    "fpr, tpr, _ = metrics.roc_curve(y_test, y_pred_proba)\n",
    "roc_auc = auc(fpr,tpr)\n",
    "plt.figure(figsize=(4,3))\n",
    "plt.plot(fpr, tpr, color='orange',\n",
    "lw=2, label='ROC curve (area = {0:.4f})'.format(roc_auc))\n",
    "plt.plot([0, 1], [0, 1], color='blue', lw=2, linestyle='--')\n",
    "plt.xlim([0.0, 1.0])\n",
    "plt.ylim([0.0, 1.05])\n",
    "plt.xlabel('False Positive Rate')\n",
    "plt.ylabel('True Positive Rate')\n",
    "plt.title('ROC curve')\n",
    "plt.legend(loc=\"lower right\")\n",
    "plt.show()\n",
    "print('Area Under Curve:', roc_auc)"
   ]
  },
  {
   "cell_type": "markdown",
   "id": "285b852b",
   "metadata": {},
   "source": [
    "### Quadratic Discriminant Analysis"
   ]
  },
  {
   "cell_type": "code",
   "execution_count": 989,
   "id": "428811fb",
   "metadata": {},
   "outputs": [
    {
     "name": "stdout",
     "output_type": "stream",
     "text": [
      "Best Parameters:  {'reg_param': 0.001}\n",
      "Accuracy Score:  0.9215196291467478\n"
     ]
    }
   ],
   "source": [
    "# Quadratic Discriminant Analysis\n",
    "from sklearn.discriminant_analysis import QuadraticDiscriminantAnalysis\n",
    "model = QuadraticDiscriminantAnalysis()\n",
    "forest_params = {'reg_param': [.00001, .0001, .001,.01, 0.1, .5, 1]}\n",
    "clf = GridSearchCV(model, forest_params, cv = 10, scoring='accuracy')\n",
    "clf.fit(X_train, y_train)\n",
    "print('Best Parameters: ', clf.best_params_)\n",
    "print('Accuracy Score: ', clf.best_score_)"
   ]
  },
  {
   "cell_type": "code",
   "execution_count": 120,
   "id": "5c484168",
   "metadata": {},
   "outputs": [
    {
     "name": "stdout",
     "output_type": "stream",
     "text": [
      "Accuracy: 0.9244532803180915\n",
      "Classification Error: 0.07554671968190851\n",
      "Mean Cross Val (Accuracy) Score 0.9119402985074627\n",
      "Mean Classification Error: 0.08805970149253728\n"
     ]
    },
    {
     "data": {
      "image/png": "[encoded data removed]",
      "text/plain": [
       "<Figure size 288x216 with 1 Axes>"
      ]
     },
     "metadata": {
      "needs_background": "light"
     },
     "output_type": "display_data"
    },
    {
     "name": "stdout",
     "output_type": "stream",
     "text": [
      "Area Under Curve: 0.9802398868094411\n"
     ]
    }
   ],
   "source": [
    "# Quadratic Discriminant Analysis\n",
    "from sklearn.discriminant_analysis import QuadraticDiscriminantAnalysis\n",
    "model = QuadraticDiscriminantAnalysis(reg_param = .001).fit(X_train, y_train)\n",
    "y_pred = model.predict(X_test)\n",
    "print(\"Accuracy:\",metrics.accuracy_score(y_test, y_pred))\n",
    "print(\"Classification Error:\",1-metrics.accuracy_score(y_test, y_pred))\n",
    "cv = RepeatedKFold(n_splits=5, n_repeats= 100, random_state=1)\n",
    "print(\"Mean Cross Val (Accuracy) Score\", np.mean(cross_val_score(model, X, y, cv=cv)))\n",
    "print(\"Mean Classification Error:\", 1 - np.mean(cross_val_score(model, X, y, scoring='accuracy', cv=cv, n_jobs=-1)))\n",
    "y_pred_proba = model.predict_proba(X_test)[:,1]\n",
    "fpr, tpr, _ = metrics.roc_curve(y_test, y_pred_proba)\n",
    "roc_auc = auc(fpr,tpr)\n",
    "plt.figure(figsize=(4,3))\n",
    "plt.plot(fpr, tpr, color='orange',\n",
    "lw=2, label='ROC curve (area = {0:.4f})'.format(roc_auc))\n",
    "plt.plot([0, 1], [0, 1], color='blue', lw=2, linestyle='--')\n",
    "plt.xlim([0.0, 1.0])\n",
    "plt.ylim([0.0, 1.05])\n",
    "plt.xlabel('False Positive Rate')\n",
    "plt.ylabel('True Positive Rate')\n",
    "plt.title('ROC curve')\n",
    "plt.legend(loc=\"lower right\")\n",
    "plt.show()\n",
    "print('Area Under Curve:', roc_auc)"
   ]
  },
  {
   "cell_type": "markdown",
   "id": "0eb177da",
   "metadata": {},
   "source": [
    "### MLPClassifier"
   ]
  },
  {
   "cell_type": "code",
   "execution_count": 997,
   "id": "c423e27e",
   "metadata": {},
   "outputs": [
    {
     "name": "stdout",
     "output_type": "stream",
     "text": [
      "Best Parameters:  {'alpha': 0.0001, 'learning_rate': 'constant', 'solver': 'adam'}\n",
      "Accuracy Score:  0.9215196291467478\n"
     ]
    }
   ],
   "source": [
    "# MLP Classifier\n",
    "from sklearn.neural_network import MLPClassifier\n",
    "model = MLPClassifier()\n",
    "forest_params = {\n",
    "    'alpha': [.0001, .001, 0.01, .1, .5, 1],\n",
    "    'learning_rate': ['constant'],\n",
    "    'solver': ['sgd', 'adam']\n",
    "}\n",
    "clf = GridSearchCV(model, forest_params, cv = 10, scoring='accuracy')\n",
    "clf.fit(X_train, y_train)\n",
    "print('Best Parameters: ', clf.best_params_)\n",
    "print('Accuracy Score: ', clf.best_score_)"
   ]
  },
  {
   "cell_type": "code",
   "execution_count": 122,
   "id": "cae5f472",
   "metadata": {},
   "outputs": [
    {
     "name": "stdout",
     "output_type": "stream",
     "text": [
      "Accuracy: 0.9165009940357853\n",
      "Classification Error: 0.08349900596421467\n",
      "Mean Cross Val (Accuracy) Score 0.9013791044776119\n",
      "Mean Classification Error: 0.09847761194029836\n"
     ]
    },
    {
     "data": {
      "image/png": "[encoded data removed]",
      "text/plain": [
       "<Figure size 288x216 with 1 Axes>"
      ]
     },
     "metadata": {
      "needs_background": "light"
     },
     "output_type": "display_data"
    },
    {
     "name": "stdout",
     "output_type": "stream",
     "text": [
      "Area Under Curve: 0.9784552061225803\n"
     ]
    }
   ],
   "source": [
    "# MLP Classifier\n",
    "from sklearn.neural_network import MLPClassifier\n",
    "model = MLPClassifier(alpha= 0.0001, learning_rate= 'constant', solver= 'adam').fit(X_train, y_train)\n",
    "y_pred = model.predict(X_test)\n",
    "print(\"Accuracy:\",metrics.accuracy_score(y_test, y_pred))\n",
    "print(\"Classification Error:\",1-metrics.accuracy_score(y_test, y_pred))\n",
    "cv = RepeatedKFold(n_splits=5, n_repeats= 100, random_state=1)\n",
    "print(\"Mean Cross Val (Accuracy) Score\", np.mean(cross_val_score(model, X, y, cv=cv)))\n",
    "print(\"Mean Classification Error:\", 1 - np.mean(cross_val_score(model, X, y, scoring='accuracy', cv=cv, n_jobs=-1)))\n",
    "y_pred_proba = model.predict_proba(X_test)[:,1]\n",
    "fpr, tpr, _ = metrics.roc_curve(y_test, y_pred_proba)\n",
    "roc_auc = auc(fpr,tpr)\n",
    "plt.figure(figsize=(4,3))\n",
    "plt.plot(fpr, tpr, color='orange',\n",
    "lw=2, label='ROC curve (area = {0:.4f})'.format(roc_auc))\n",
    "plt.plot([0, 1], [0, 1], color='blue', lw=2, linestyle='--')\n",
    "plt.xlim([0.0, 1.0])\n",
    "plt.ylim([0.0, 1.05])\n",
    "plt.xlabel('False Positive Rate')\n",
    "plt.ylabel('True Positive Rate')\n",
    "plt.title('ROC curve')\n",
    "plt.legend(loc=\"lower right\")\n",
    "plt.show()\n",
    "print('Area Under Curve:', roc_auc)"
   ]
  },
  {
   "cell_type": "markdown",
   "id": "1dc43ff2",
   "metadata": {},
   "source": [
    "# Final Results (Predictions on Test data)"
   ]
  },
  {
   "cell_type": "markdown",
   "id": "ba0a70da",
   "metadata": {},
   "source": [
    "### Scale the Input Test Data "
   ]
  },
  {
   "cell_type": "code",
   "execution_count": 28,
   "id": "869e19b9",
   "metadata": {},
   "outputs": [
    {
     "data": {
      "text/html": [
       "<div>\n",
       "<style scoped>\n",
       "    .dataframe tbody tr th:only-of-type {\n",
       "        vertical-align: middle;\n",
       "    }\n",
       "\n",
       "    .dataframe tbody tr th {\n",
       "        vertical-align: top;\n",
       "    }\n",
       "\n",
       "    .dataframe thead th {\n",
       "        text-align: right;\n",
       "    }\n",
       "</style>\n",
       "<table border=\"1\" class=\"dataframe\">\n",
       "  <thead>\n",
       "    <tr style=\"text-align: right;\">\n",
       "      <th></th>\n",
       "      <th>K</th>\n",
       "      <th>S</th>\n",
       "      <th>r</th>\n",
       "      <th>tau</th>\n",
       "    </tr>\n",
       "  </thead>\n",
       "  <tbody>\n",
       "    <tr>\n",
       "      <th>count</th>\n",
       "      <td>1120.0000</td>\n",
       "      <td>1120.0000</td>\n",
       "      <td>1120.0000</td>\n",
       "      <td>1120.0000</td>\n",
       "    </tr>\n",
       "    <tr>\n",
       "      <th>mean</th>\n",
       "      <td>0.5233</td>\n",
       "      <td>0.5143</td>\n",
       "      <td>0.3007</td>\n",
       "      <td>0.5133</td>\n",
       "    </tr>\n",
       "    <tr>\n",
       "      <th>std</th>\n",
       "      <td>0.1903</td>\n",
       "      <td>0.2509</td>\n",
       "      <td>0.2288</td>\n",
       "      <td>0.2656</td>\n",
       "    </tr>\n",
       "    <tr>\n",
       "      <th>min</th>\n",
       "      <td>0.0000</td>\n",
       "      <td>0.0000</td>\n",
       "      <td>0.0000</td>\n",
       "      <td>0.0000</td>\n",
       "    </tr>\n",
       "    <tr>\n",
       "      <th>25%</th>\n",
       "      <td>0.3600</td>\n",
       "      <td>0.2717</td>\n",
       "      <td>0.1308</td>\n",
       "      <td>0.2857</td>\n",
       "    </tr>\n",
       "    <tr>\n",
       "      <th>50%</th>\n",
       "      <td>0.5200</td>\n",
       "      <td>0.5899</td>\n",
       "      <td>0.2616</td>\n",
       "      <td>0.5204</td>\n",
       "    </tr>\n",
       "    <tr>\n",
       "      <th>75%</th>\n",
       "      <td>0.6800</td>\n",
       "      <td>0.7195</td>\n",
       "      <td>0.3924</td>\n",
       "      <td>0.7245</td>\n",
       "    </tr>\n",
       "    <tr>\n",
       "      <th>max</th>\n",
       "      <td>1.0000</td>\n",
       "      <td>1.0000</td>\n",
       "      <td>1.0000</td>\n",
       "      <td>1.0000</td>\n",
       "    </tr>\n",
       "  </tbody>\n",
       "</table>\n",
       "</div>"
      ],
      "text/plain": [
       "               K          S          r        tau\n",
       "count  1120.0000  1120.0000  1120.0000  1120.0000\n",
       "mean      0.5233     0.5143     0.3007     0.5133\n",
       "std       0.1903     0.2509     0.2288     0.2656\n",
       "min       0.0000     0.0000     0.0000     0.0000\n",
       "25%       0.3600     0.2717     0.1308     0.2857\n",
       "50%       0.5200     0.5899     0.2616     0.5204\n",
       "75%       0.6800     0.7195     0.3924     0.7245\n",
       "max       1.0000     1.0000     1.0000     1.0000"
      ]
     },
     "execution_count": 28,
     "metadata": {},
     "output_type": "execute_result"
    }
   ],
   "source": [
    "#All Datasets/Scaling Test Data\n",
    "option_test = pd.read_csv('option_test_wolabel.csv')\n",
    "option_test = option_test[['K','S','r','tau']]\n",
    "scaled = MinMaxScaler().fit(option_test)\n",
    "option_test = scaled.transform(option_test)\n",
    "option_test = pd.DataFrame(option_test, columns=['K','S','r','tau'])\n",
    "option_test = option_test + .0000000000001\n",
    "round(option_test.describe(),4)"
   ]
  },
  {
   "cell_type": "markdown",
   "id": "dbac6174",
   "metadata": {},
   "source": [
    "## Best Classifier "
   ]
  },
  {
   "cell_type": "markdown",
   "id": "86295cfa",
   "metadata": {},
   "source": [
    "Our best classifier for this data was the XGBClassifier: \n",
    "\n",
    "- XGBClassifier(learning_rate= 1, max_depth= 4, eta=1)\n",
    "\n",
    "- Mean Cross Val (Accuracy) Score =  0.9333\n",
    "- Mean Classification Error = 0.0666"
   ]
  },
  {
   "cell_type": "markdown",
   "id": "a47ae546",
   "metadata": {},
   "source": [
    "### 'BS' Predictions "
   ]
  },
  {
   "cell_type": "code",
   "execution_count": 33,
   "id": "3b38e255",
   "metadata": {},
   "outputs": [
    {
     "data": {
      "text/html": [
       "<div>\n",
       "<style scoped>\n",
       "    .dataframe tbody tr th:only-of-type {\n",
       "        vertical-align: middle;\n",
       "    }\n",
       "\n",
       "    .dataframe tbody tr th {\n",
       "        vertical-align: top;\n",
       "    }\n",
       "\n",
       "    .dataframe thead th {\n",
       "        text-align: right;\n",
       "    }\n",
       "</style>\n",
       "<table border=\"1\" class=\"dataframe\">\n",
       "  <thead>\n",
       "    <tr style=\"text-align: right;\">\n",
       "      <th></th>\n",
       "      <th>BS</th>\n",
       "    </tr>\n",
       "  </thead>\n",
       "  <tbody>\n",
       "    <tr>\n",
       "      <th>965</th>\n",
       "      <td>1</td>\n",
       "    </tr>\n",
       "    <tr>\n",
       "      <th>294</th>\n",
       "      <td>0</td>\n",
       "    </tr>\n",
       "    <tr>\n",
       "      <th>686</th>\n",
       "      <td>0</td>\n",
       "    </tr>\n",
       "  </tbody>\n",
       "</table>\n",
       "</div>"
      ],
      "text/plain": [
       "     BS\n",
       "965   1\n",
       "294   0\n",
       "686   0"
      ]
     },
     "execution_count": 33,
     "metadata": {},
     "output_type": "execute_result"
    }
   ],
   "source": [
    "#BS Predictions \n",
    "from xgboost import XGBClassifier\n",
    "model = XGBClassifier(learning_rate= 1, max_depth= 4, eta=1).fit(X_train, y_train)\n",
    "y_pred = model.predict(option_test)\n",
    "y_pred = pd.DataFrame(y_pred, columns=['BS'])\n",
    "y_pred.sample(3)"
   ]
  },
  {
   "cell_type": "code",
   "execution_count": 30,
   "id": "b82b5518",
   "metadata": {},
   "outputs": [],
   "source": [
    "preds = pd.read_excel('group_10_prediction_.xlsx')\n",
    "preds = preds.drop('BS', 1)\n",
    "preds['BS'] = y_pred\n",
    "preds.to_csv(\"group_10_prediction_.csv\", index=True)"
   ]
  },
  {
   "cell_type": "markdown",
   "id": "2a4d9a93",
   "metadata": {},
   "source": [
    "## Best Regression Equation"
   ]
  },
  {
   "cell_type": "markdown",
   "id": "2321e0ca",
   "metadata": {},
   "source": [
    "Our best and final regression equation is:\n",
    "- Value = K + S + tau + K*S + K^2 + log(tau) + e^(K)+ 1/r + tau^K "
   ]
  },
  {
   "cell_type": "markdown",
   "id": "bed797cc",
   "metadata": {},
   "source": [
    "### 'Value' Predictions"
   ]
  },
  {
   "cell_type": "code",
   "execution_count": 412,
   "id": "a0a69a52",
   "metadata": {},
   "outputs": [
    {
     "data": {
      "text/html": [
       "<div>\n",
       "<style scoped>\n",
       "    .dataframe tbody tr th:only-of-type {\n",
       "        vertical-align: middle;\n",
       "    }\n",
       "\n",
       "    .dataframe tbody tr th {\n",
       "        vertical-align: top;\n",
       "    }\n",
       "\n",
       "    .dataframe thead th {\n",
       "        text-align: right;\n",
       "    }\n",
       "</style>\n",
       "<table border=\"1\" class=\"dataframe\">\n",
       "  <thead>\n",
       "    <tr style=\"text-align: right;\">\n",
       "      <th></th>\n",
       "      <th>Value</th>\n",
       "    </tr>\n",
       "  </thead>\n",
       "  <tbody>\n",
       "    <tr>\n",
       "      <th>352</th>\n",
       "      <td>9.041225</td>\n",
       "    </tr>\n",
       "    <tr>\n",
       "      <th>690</th>\n",
       "      <td>18.069283</td>\n",
       "    </tr>\n",
       "    <tr>\n",
       "      <th>288</th>\n",
       "      <td>33.851223</td>\n",
       "    </tr>\n",
       "  </tbody>\n",
       "</table>\n",
       "</div>"
      ],
      "text/plain": [
       "         Value\n",
       "352   9.041225\n",
       "690  18.069283\n",
       "288  33.851223"
      ]
     },
     "execution_count": 412,
     "metadata": {},
     "output_type": "execute_result"
    }
   ],
   "source": [
    "#Value Predictions \n",
    "model = smf.ols('Value ~ K + S + tau + \\\n",
    "K*S + \\\n",
    "np.power(K, 2) + \\\n",
    "np.log(tau) + \\\n",
    "np.exp(K) + \\\n",
    "np.power(r,-1) + \\\n",
    "np.power(tau,K)', data=option_train_train).fit()\n",
    "predictions = model.predict(option_test)\n",
    "predictions = pd.DataFrame(predictions, columns=['Value'])\n",
    "predictions.sample(3)"
   ]
  },
  {
   "cell_type": "markdown",
   "id": "87484e1b",
   "metadata": {},
   "source": [
    "## Final Predictions "
   ]
  },
  {
   "cell_type": "code",
   "execution_count": 417,
   "id": "db02f830",
   "metadata": {},
   "outputs": [
    {
     "data": {
      "text/html": [
       "<div>\n",
       "<style scoped>\n",
       "    .dataframe tbody tr th:only-of-type {\n",
       "        vertical-align: middle;\n",
       "    }\n",
       "\n",
       "    .dataframe tbody tr th {\n",
       "        vertical-align: top;\n",
       "    }\n",
       "\n",
       "    .dataframe thead th {\n",
       "        text-align: right;\n",
       "    }\n",
       "</style>\n",
       "<table border=\"1\" class=\"dataframe\">\n",
       "  <thead>\n",
       "    <tr style=\"text-align: right;\">\n",
       "      <th></th>\n",
       "      <th>Value</th>\n",
       "      <th>BS</th>\n",
       "    </tr>\n",
       "  </thead>\n",
       "  <tbody>\n",
       "    <tr>\n",
       "      <th>1038</th>\n",
       "      <td>3.814722</td>\n",
       "      <td>1</td>\n",
       "    </tr>\n",
       "    <tr>\n",
       "      <th>1019</th>\n",
       "      <td>24.992202</td>\n",
       "      <td>1</td>\n",
       "    </tr>\n",
       "    <tr>\n",
       "      <th>147</th>\n",
       "      <td>5.614747</td>\n",
       "      <td>0</td>\n",
       "    </tr>\n",
       "  </tbody>\n",
       "</table>\n",
       "</div>"
      ],
      "text/plain": [
       "          Value  BS\n",
       "1038   3.814722   1\n",
       "1019  24.992202   1\n",
       "147    5.614747   0"
      ]
     },
     "execution_count": 417,
     "metadata": {},
     "output_type": "execute_result"
    }
   ],
   "source": [
    "predictions['BS'] = y_pred\n",
    "predictions.sample(3)"
   ]
  },
  {
   "cell_type": "code",
   "execution_count": 418,
   "id": "d8084430",
   "metadata": {},
   "outputs": [],
   "source": [
    "predictions.to_csv(\"group_10_prediction.csv\", index=True)"
   ]
  }
 ],
 "metadata": {
  "kernelspec": {
   "display_name": "Python 3",
   "language": "python",
   "name": "python3"
  },
  "language_info": {
   "codemirror_mode": {
    "name": "ipython",
    "version": 3
   },
   "file_extension": ".py",
   "mimetype": "text/x-python",
   "name": "python",
   "nbconvert_exporter": "python",
   "pygments_lexer": "ipython3",
   "version": "3.8.8"
  },
  "latex_envs": {
   "LaTeX_envs_menu_present": true,
   "autoclose": true,
   "autocomplete": true,
   "bibliofile": "biblio.bib",
   "cite_by": "apalike",
   "current_citInitial": 1,
   "eqLabelWithNumbers": true,
   "eqNumInitial": 1,
   "hotkeys": {
    "equation": "Ctrl-E",
    "itemize": "Ctrl-I"
   },
   "labels_anchors": false,
   "latex_user_defs": false,
   "report_style_numbering": false,
   "user_envs_cfg": false
  }
 },
 "nbformat": 4,
 "nbformat_minor": 5
}
